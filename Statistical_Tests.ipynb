{
 "cells": [
  {
   "cell_type": "markdown",
   "metadata": {},
   "source": [
    "-------"
   ]
  },
  {
   "cell_type": "markdown",
   "metadata": {},
   "source": [
    "# Bank Marketing Data Set\n",
    "\n",
    "## Abstract\n",
    "\n",
    "The data is related with direct marketing campaigns (phone calls) of a Portuguese banking institution. The classification goal is to predict if the client will subscribe a term deposit (variable y)\n",
    "\n",
    "## Data Set Information\n",
    "\n",
    "The data is related with direct marketing campaigns of a Portuguese banking institution. The marketing campaigns were based on phone calls. Often, more than one contact to the same client was required, in order to access if the product (bank term deposit) would be ('yes') or not ('no') subscribed.\n",
    "\n",
    "There are four datasets:\n",
    "\n",
    "1) bank-additional-full.csv with all examples (41188) and 20 inputs, ordered by date (from May 2008 to November 2010), very close to the data analyzed in [Moro et al., 2014]\n",
    "\n",
    "2) bank-additional.csv with 10% of the examples (4119), randomly selected from 1), and 20 inputs.\n",
    "\n",
    "3) bank-full.csv with all examples and 17 inputs, ordered by date (older version of this dataset with less inputs).\n",
    "\n",
    "4) bank.csv with 10% of the examples and 17 inputs, randomly selected from 3 (older version of this dataset with less inputs).\n",
    "\n",
    "The smallest datasets are provided to test more computationally demanding machine learning algorithms (e.g., SVM).\n",
    "\n",
    "The classification goal is to predict if the client will subscribe (yes/no) a term deposit (variable y).\n",
    "\n",
    "## Attribute Information\n",
    "\n",
    "### Input variables:\n",
    "    \n",
    "#### bank client data:\n",
    "\n",
    "1 - age (numeric)\n",
    "\n",
    "2 - job : type of job (categorical: 'admin.','blue-collar','entrepreneur','housemaid','management','retired','self-employed','services','student','technician','unemployed','unknown')\n",
    "\n",
    "3 - marital : marital status (categorical: 'divorced','married','single','unknown'; note: 'divorced' means divorced or widowed)\n",
    "\n",
    "4 - education (categorical: 'basic.4y','basic.6y','basic.9y','high.school','illiterate','professional.course','university.degree','unknown')\n",
    "\n",
    "5 - default: has credit in default? (categorical: 'no','yes','unknown')\n",
    "\n",
    "6 - housing: has housing loan? (categorical: 'no','yes','unknown')\n",
    "\n",
    "7 - loan: has personal loan? (categorical: 'no','yes','unknown')\n",
    "\n",
    "#### related with the last contact of the current campaign:\n",
    "\n",
    "8 - contact: contact communication type (categorical: 'cellular','telephone')\n",
    "\n",
    "9 - month: last contact month of year (categorical: 'jan', 'feb', 'mar', ..., 'nov', 'dec')\n",
    "\n",
    "10 - day_of_week: last contact day of the week (categorical: 'mon','tue','wed','thu','fri')\n",
    "\n",
    "11 - duration: last contact duration, in seconds (numeric). Important note: this attribute highly affects the output target (e.g., if duration=0 then y='no'). Yet, the duration is not known before a call is performed. Also, after the end of the call y is obviously known. Thus, this input should only be included for benchmark purposes and should be discarded if the intention is to have a realistic predictive model.\n",
    "\n",
    "#### other attributes:\n",
    "\n",
    "12 - campaign: number of contacts performed during this campaign and for this client (numeric, includes last contact)\n",
    "\n",
    "13 - pdays: number of days that passed by after the client was last contacted from a previous campaign (numeric; 999 means client was not previously contacted)\n",
    "\n",
    "14 - previous: number of contacts performed before this campaign and for this client (numeric)\n",
    "\n",
    "15 - poutcome: outcome of the previous marketing campaign (categorical: 'failure','nonexistent','success')\n",
    "\n",
    "#### social and economic context attributes\n",
    "\n",
    "16 - emp.var.rate: employment variation rate - quarterly indicator (numeric)\n",
    "\n",
    "17 - cons.price.idx: consumer price index - monthly indicator (numeric)\n",
    "\n",
    "18 - cons.conf.idx: consumer confidence index - monthly indicator (numeric)\n",
    "\n",
    "19 - euribor3m: euribor 3 month rate - daily indicator (numeric)\n",
    "\n",
    "20 - nr.employed: number of employees - quarterly indicator (numeric)\n",
    "\n",
    "Output variable (desired target):\n",
    "\n",
    "21 - y - has the client subscribed a term deposit? (binary: 'yes','no')"
   ]
  },
  {
   "cell_type": "markdown",
   "metadata": {},
   "source": [
    "------"
   ]
  },
  {
   "cell_type": "code",
   "execution_count": 1,
   "metadata": {},
   "outputs": [],
   "source": [
    "import pandas as pd\n",
    "import numpy as np\n",
    "data= pd.read_csv('data_after_imputing_unknown_value.csv')"
   ]
  },
  {
   "cell_type": "markdown",
   "metadata": {},
   "source": [
    "# Statistical Test of Categorical Columns\n",
    "# Job Column"
   ]
  },
  {
   "cell_type": "markdown",
   "metadata": {},
   "source": [
    "### Define null and Alternate Hypothesis\n",
    "__Null Hypothesis: H0:__ There is no effect of job of the client on the term deposit subscription.\n",
    "\n",
    "__Alternate Hypothesis: H1:__ There is an effect of job of the client on the term deposit subscription."
   ]
  },
  {
   "cell_type": "code",
   "execution_count": 2,
   "metadata": {},
   "outputs": [
    {
     "data": {
      "text/html": [
       "<div>\n",
       "<style scoped>\n",
       "    .dataframe tbody tr th:only-of-type {\n",
       "        vertical-align: middle;\n",
       "    }\n",
       "\n",
       "    .dataframe tbody tr th {\n",
       "        vertical-align: top;\n",
       "    }\n",
       "\n",
       "    .dataframe thead th {\n",
       "        text-align: right;\n",
       "    }\n",
       "</style>\n",
       "<table border=\"1\" class=\"dataframe\">\n",
       "  <thead>\n",
       "    <tr style=\"text-align: right;\">\n",
       "      <th>y</th>\n",
       "      <th>no</th>\n",
       "      <th>yes</th>\n",
       "    </tr>\n",
       "    <tr>\n",
       "      <th>job</th>\n",
       "      <th></th>\n",
       "      <th></th>\n",
       "    </tr>\n",
       "  </thead>\n",
       "  <tbody>\n",
       "    <tr>\n",
       "      <th>admin.</th>\n",
       "      <td>9152</td>\n",
       "      <td>1362</td>\n",
       "    </tr>\n",
       "    <tr>\n",
       "      <th>blue-collar</th>\n",
       "      <td>8730</td>\n",
       "      <td>643</td>\n",
       "    </tr>\n",
       "    <tr>\n",
       "      <th>entrepreneur</th>\n",
       "      <td>1333</td>\n",
       "      <td>124</td>\n",
       "    </tr>\n",
       "    <tr>\n",
       "      <th>housemaid</th>\n",
       "      <td>958</td>\n",
       "      <td>106</td>\n",
       "    </tr>\n",
       "    <tr>\n",
       "      <th>management</th>\n",
       "      <td>2602</td>\n",
       "      <td>328</td>\n",
       "    </tr>\n",
       "    <tr>\n",
       "      <th>retired</th>\n",
       "      <td>1328</td>\n",
       "      <td>446</td>\n",
       "    </tr>\n",
       "    <tr>\n",
       "      <th>self-employed</th>\n",
       "      <td>1275</td>\n",
       "      <td>149</td>\n",
       "    </tr>\n",
       "    <tr>\n",
       "      <th>services</th>\n",
       "      <td>3659</td>\n",
       "      <td>323</td>\n",
       "    </tr>\n",
       "    <tr>\n",
       "      <th>student</th>\n",
       "      <td>605</td>\n",
       "      <td>281</td>\n",
       "    </tr>\n",
       "    <tr>\n",
       "      <th>technician</th>\n",
       "      <td>6034</td>\n",
       "      <td>734</td>\n",
       "    </tr>\n",
       "    <tr>\n",
       "      <th>unemployed</th>\n",
       "      <td>872</td>\n",
       "      <td>144</td>\n",
       "    </tr>\n",
       "  </tbody>\n",
       "</table>\n",
       "</div>"
      ],
      "text/plain": [
       "y                no   yes\n",
       "job                      \n",
       "admin.         9152  1362\n",
       "blue-collar    8730   643\n",
       "entrepreneur   1333   124\n",
       "housemaid       958   106\n",
       "management     2602   328\n",
       "retired        1328   446\n",
       "self-employed  1275   149\n",
       "services       3659   323\n",
       "student         605   281\n",
       "technician     6034   734\n",
       "unemployed      872   144"
      ]
     },
     "execution_count": 2,
     "metadata": {},
     "output_type": "execute_result"
    }
   ],
   "source": [
    "c2= pd.crosstab(data['job'],data['y'])\n",
    "c2"
   ]
  },
  {
   "cell_type": "code",
   "execution_count": 3,
   "metadata": {},
   "outputs": [
    {
     "data": {
      "text/plain": [
       "(987.5156293968546,\n",
       " 9.14272721732315e-206,\n",
       " 10,\n",
       " array([[9329.55404487, 1184.44595513],\n",
       "        [8317.09245411, 1055.90754589],\n",
       "        [1292.86287268,  164.13712732],\n",
       "        [ 944.13596193,  119.86403807],\n",
       "        [2599.92327862,  330.07672138],\n",
       "        [1574.15150044,  199.84849956],\n",
       "        [1263.58046033,  160.41953967],\n",
       "        [3533.41109061,  448.58890939],\n",
       "        [ 786.18840439,   99.81159561],\n",
       "        [6005.55656987,  762.44343013],\n",
       "        [ 901.54336214,  114.45663786]]))"
      ]
     },
     "execution_count": 3,
     "metadata": {},
     "output_type": "execute_result"
    }
   ],
   "source": [
    "import scipy.stats as stats\n",
    "stats.chi2_contingency(c2)"
   ]
  },
  {
   "cell_type": "markdown",
   "metadata": {},
   "source": [
    "__Observation-__ Since, the p-value(9.14272721732315e-206) is less than 0.05, so, we can infer that our __null hypothesis is rejected__ and there is a significant effect of job of the client on the term deposit subscription."
   ]
  },
  {
   "cell_type": "markdown",
   "metadata": {},
   "source": [
    "### Post-Hoc Test of the job column"
   ]
  },
  {
   "cell_type": "code",
   "execution_count": 4,
   "metadata": {},
   "outputs": [
    {
     "data": {
      "text/html": [
       "<div>\n",
       "<style scoped>\n",
       "    .dataframe tbody tr th:only-of-type {\n",
       "        vertical-align: middle;\n",
       "    }\n",
       "\n",
       "    .dataframe tbody tr th {\n",
       "        vertical-align: top;\n",
       "    }\n",
       "\n",
       "    .dataframe thead th {\n",
       "        text-align: right;\n",
       "    }\n",
       "</style>\n",
       "<table border=\"1\" class=\"dataframe\">\n",
       "  <thead>\n",
       "    <tr style=\"text-align: right;\">\n",
       "      <th></th>\n",
       "      <th>admin.</th>\n",
       "      <th>blue-collar</th>\n",
       "      <th>entrepreneur</th>\n",
       "      <th>housemaid</th>\n",
       "      <th>management</th>\n",
       "      <th>retired</th>\n",
       "      <th>self-employed</th>\n",
       "      <th>services</th>\n",
       "      <th>student</th>\n",
       "      <th>technician</th>\n",
       "      <th>unemployed</th>\n",
       "    </tr>\n",
       "  </thead>\n",
       "  <tbody>\n",
       "    <tr>\n",
       "      <th>0</th>\n",
       "      <td>0</td>\n",
       "      <td>0</td>\n",
       "      <td>0</td>\n",
       "      <td>1</td>\n",
       "      <td>0</td>\n",
       "      <td>0</td>\n",
       "      <td>0</td>\n",
       "      <td>0</td>\n",
       "      <td>0</td>\n",
       "      <td>0</td>\n",
       "      <td>0</td>\n",
       "    </tr>\n",
       "    <tr>\n",
       "      <th>1</th>\n",
       "      <td>0</td>\n",
       "      <td>0</td>\n",
       "      <td>0</td>\n",
       "      <td>0</td>\n",
       "      <td>0</td>\n",
       "      <td>0</td>\n",
       "      <td>0</td>\n",
       "      <td>1</td>\n",
       "      <td>0</td>\n",
       "      <td>0</td>\n",
       "      <td>0</td>\n",
       "    </tr>\n",
       "    <tr>\n",
       "      <th>2</th>\n",
       "      <td>0</td>\n",
       "      <td>0</td>\n",
       "      <td>0</td>\n",
       "      <td>0</td>\n",
       "      <td>0</td>\n",
       "      <td>0</td>\n",
       "      <td>0</td>\n",
       "      <td>1</td>\n",
       "      <td>0</td>\n",
       "      <td>0</td>\n",
       "      <td>0</td>\n",
       "    </tr>\n",
       "    <tr>\n",
       "      <th>3</th>\n",
       "      <td>1</td>\n",
       "      <td>0</td>\n",
       "      <td>0</td>\n",
       "      <td>0</td>\n",
       "      <td>0</td>\n",
       "      <td>0</td>\n",
       "      <td>0</td>\n",
       "      <td>0</td>\n",
       "      <td>0</td>\n",
       "      <td>0</td>\n",
       "      <td>0</td>\n",
       "    </tr>\n",
       "    <tr>\n",
       "      <th>4</th>\n",
       "      <td>0</td>\n",
       "      <td>0</td>\n",
       "      <td>0</td>\n",
       "      <td>0</td>\n",
       "      <td>0</td>\n",
       "      <td>0</td>\n",
       "      <td>0</td>\n",
       "      <td>1</td>\n",
       "      <td>0</td>\n",
       "      <td>0</td>\n",
       "      <td>0</td>\n",
       "    </tr>\n",
       "  </tbody>\n",
       "</table>\n",
       "</div>"
      ],
      "text/plain": [
       "   admin.  blue-collar  entrepreneur  housemaid  management  retired  \\\n",
       "0       0            0             0          1           0        0   \n",
       "1       0            0             0          0           0        0   \n",
       "2       0            0             0          0           0        0   \n",
       "3       1            0             0          0           0        0   \n",
       "4       0            0             0          0           0        0   \n",
       "\n",
       "   self-employed  services  student  technician  unemployed  \n",
       "0              0         0        0           0           0  \n",
       "1              0         1        0           0           0  \n",
       "2              0         1        0           0           0  \n",
       "3              0         0        0           0           0  \n",
       "4              0         1        0           0           0  "
      ]
     },
     "execution_count": 4,
     "metadata": {},
     "output_type": "execute_result"
    }
   ],
   "source": [
    "d2= pd.get_dummies(data['job'])\n",
    "d2.head()"
   ]
  },
  {
   "cell_type": "code",
   "execution_count": 5,
   "metadata": {},
   "outputs": [
    {
     "name": "stdout",
     "output_type": "stream",
     "text": [
      "y             no       yes\n",
      "admin.                    \n",
      "0       0.893134  0.106866\n",
      "1       0.870458  0.129542 \n",
      "\n",
      "Chi2 value= 987.5156293968546\n",
      "p-value= 9.14272721732315e-206\n",
      "Degrees of freedom= 10\n",
      "\n",
      "y                  no       yes\n",
      "blue-collar                    \n",
      "0            0.874367  0.125633\n",
      "1            0.931399  0.068601 \n",
      "\n",
      "Chi2 value= 987.5156293968546\n",
      "p-value= 9.14272721732315e-206\n",
      "Degrees of freedom= 10\n",
      "\n",
      "y                   no       yes\n",
      "entrepreneur                    \n",
      "0             0.886336  0.113664\n",
      "1             0.914894  0.085106 \n",
      "\n",
      "Chi2 value= 987.5156293968546\n",
      "p-value= 9.14272721732315e-206\n",
      "Degrees of freedom= 10\n",
      "\n",
      "y                no       yes\n",
      "housemaid                    \n",
      "0          0.887000  0.113000\n",
      "1          0.900376  0.099624 \n",
      "\n",
      "Chi2 value= 987.5156293968546\n",
      "p-value= 9.14272721732315e-206\n",
      "Degrees of freedom= 10\n",
      "\n",
      "y                 no       yes\n",
      "management                    \n",
      "0           0.887292  0.112708\n",
      "1           0.888055  0.111945 \n",
      "\n",
      "Chi2 value= 987.5156293968546\n",
      "p-value= 9.14272721732315e-206\n",
      "Degrees of freedom= 10\n",
      "\n",
      "y              no       yes\n",
      "retired                    \n",
      "0        0.893591  0.106409\n",
      "1        0.748591  0.251409 \n",
      "\n",
      "Chi2 value= 987.5156293968546\n",
      "p-value= 9.14272721732315e-206\n",
      "Degrees of freedom= 10\n",
      "\n",
      "y                    no       yes\n",
      "self-employed                    \n",
      "0              0.887059  0.112941\n",
      "1              0.895365  0.104635 \n",
      "\n",
      "Chi2 value= 987.5156293968546\n",
      "p-value= 9.14272721732315e-206\n",
      "Degrees of freedom= 10\n",
      "\n",
      "y               no       yes\n",
      "services                    \n",
      "0         0.883970  0.116030\n",
      "1         0.918885  0.081115 \n",
      "\n",
      "Chi2 value= 987.5156293968546\n",
      "p-value= 9.14272721732315e-206\n",
      "Degrees of freedom= 10\n",
      "\n",
      "y              no       yes\n",
      "student                    \n",
      "0        0.891842  0.108158\n",
      "1        0.682844  0.317156 \n",
      "\n",
      "Chi2 value= 987.5156293968546\n",
      "p-value= 9.14272721732315e-206\n",
      "Degrees of freedom= 10\n",
      "\n",
      "y                 no       yes\n",
      "technician                    \n",
      "0           0.886519  0.113481\n",
      "1           0.891548  0.108452 \n",
      "\n",
      "Chi2 value= 987.5156293968546\n",
      "p-value= 9.14272721732315e-206\n",
      "Degrees of freedom= 10\n",
      "\n",
      "y                 no       yes\n",
      "unemployed                    \n",
      "0           0.888081  0.111919\n",
      "1           0.858268  0.141732 \n",
      "\n",
      "Chi2 value= 987.5156293968546\n",
      "p-value= 9.14272721732315e-206\n",
      "Degrees of freedom= 10\n",
      "\n"
     ]
    }
   ],
   "source": [
    "for series in d2:\n",
    "    nl = \"\\n\"\n",
    "    \n",
    "    crosstab = pd.crosstab(d2[f\"{series}\"], data['y'], normalize='index')\n",
    "    print(crosstab, nl)\n",
    "    chi2, p, dof, expected = stats.chi2_contingency(c2)\n",
    "    print(f\"Chi2 value= {chi2}{nl}p-value= {p}{nl}Degrees of freedom= {dof}{nl}\")"
   ]
  },
  {
   "cell_type": "markdown",
   "metadata": {},
   "source": [
    "__Observation-__ From the above table, we can infer that most of the clients who say 'yes' for term subscription they are working as __RETIRED(25%)__ and __STUDENT(31%)__."
   ]
  },
  {
   "cell_type": "markdown",
   "metadata": {},
   "source": [
    "### Conclusion of Job Column\n",
    "There is a __significant effect__ of job of the client on the term deposit deposition. and most of the clients who say 'yes' for term subscription they are working as RETIRED and STUDENT."
   ]
  },
  {
   "cell_type": "markdown",
   "metadata": {},
   "source": [
    "# Age_Cat Column"
   ]
  },
  {
   "cell_type": "markdown",
   "metadata": {},
   "source": [
    "### Define null and Alternate Hypothesis\n",
    "__Null Hypothesis: H0:__ There is no effect of age category of the client on the term deposit subscription.\n",
    "\n",
    "__Alternate Hypothesis: H1:__ There is an effect of age category of the client on the term deposit subscription."
   ]
  },
  {
   "cell_type": "code",
   "execution_count": 6,
   "metadata": {},
   "outputs": [
    {
     "data": {
      "text/html": [
       "<div>\n",
       "<style scoped>\n",
       "    .dataframe tbody tr th:only-of-type {\n",
       "        vertical-align: middle;\n",
       "    }\n",
       "\n",
       "    .dataframe tbody tr th {\n",
       "        vertical-align: top;\n",
       "    }\n",
       "\n",
       "    .dataframe thead th {\n",
       "        text-align: right;\n",
       "    }\n",
       "</style>\n",
       "<table border=\"1\" class=\"dataframe\">\n",
       "  <thead>\n",
       "    <tr style=\"text-align: right;\">\n",
       "      <th>y</th>\n",
       "      <th>no</th>\n",
       "      <th>yes</th>\n",
       "    </tr>\n",
       "    <tr>\n",
       "      <th>age_cat</th>\n",
       "      <th></th>\n",
       "      <th></th>\n",
       "    </tr>\n",
       "  </thead>\n",
       "  <tbody>\n",
       "    <tr>\n",
       "      <th>Adult</th>\n",
       "      <td>9004</td>\n",
       "      <td>995</td>\n",
       "    </tr>\n",
       "    <tr>\n",
       "      <th>Mature</th>\n",
       "      <td>9344</td>\n",
       "      <td>796</td>\n",
       "    </tr>\n",
       "    <tr>\n",
       "      <th>Old</th>\n",
       "      <td>8552</td>\n",
       "      <td>1321</td>\n",
       "    </tr>\n",
       "    <tr>\n",
       "      <th>Young</th>\n",
       "      <td>9648</td>\n",
       "      <td>1528</td>\n",
       "    </tr>\n",
       "  </tbody>\n",
       "</table>\n",
       "</div>"
      ],
      "text/plain": [
       "y          no   yes\n",
       "age_cat            \n",
       "Adult    9004   995\n",
       "Mature   9344   796\n",
       "Old      8552  1321\n",
       "Young    9648  1528"
      ]
     },
     "execution_count": 6,
     "metadata": {},
     "output_type": "execute_result"
    }
   ],
   "source": [
    "c1= pd.crosstab(data['age_cat'],data['y'])\n",
    "c1"
   ]
  },
  {
   "cell_type": "code",
   "execution_count": 7,
   "metadata": {},
   "outputs": [
    {
     "data": {
      "text/plain": [
       "(244.52160929053852,\n",
       " 1.0015466976149123e-52,\n",
       " 3,\n",
       " array([[8872.57094299, 1126.42905701],\n",
       "        [8997.68670487, 1142.31329513],\n",
       "        [8760.76536855, 1112.23463145],\n",
       "        [9916.97698359, 1259.02301641]]))"
      ]
     },
     "execution_count": 7,
     "metadata": {},
     "output_type": "execute_result"
    }
   ],
   "source": [
    "stats.chi2_contingency(c1)"
   ]
  },
  {
   "cell_type": "markdown",
   "metadata": {},
   "source": [
    "__Observation-__ Since, the p-value(1.0015466976149268e-52) is less than 0.05, so, we can infer that our __null hypothesis is rejected__ and there is a significant effect of age category of the client on the term deposit subscription."
   ]
  },
  {
   "cell_type": "markdown",
   "metadata": {},
   "source": [
    "### Post-Hoc Test of the age category column"
   ]
  },
  {
   "cell_type": "code",
   "execution_count": 8,
   "metadata": {},
   "outputs": [
    {
     "data": {
      "text/html": [
       "<div>\n",
       "<style scoped>\n",
       "    .dataframe tbody tr th:only-of-type {\n",
       "        vertical-align: middle;\n",
       "    }\n",
       "\n",
       "    .dataframe tbody tr th {\n",
       "        vertical-align: top;\n",
       "    }\n",
       "\n",
       "    .dataframe thead th {\n",
       "        text-align: right;\n",
       "    }\n",
       "</style>\n",
       "<table border=\"1\" class=\"dataframe\">\n",
       "  <thead>\n",
       "    <tr style=\"text-align: right;\">\n",
       "      <th></th>\n",
       "      <th>Adult</th>\n",
       "      <th>Mature</th>\n",
       "      <th>Old</th>\n",
       "      <th>Young</th>\n",
       "    </tr>\n",
       "  </thead>\n",
       "  <tbody>\n",
       "    <tr>\n",
       "      <th>0</th>\n",
       "      <td>0</td>\n",
       "      <td>0</td>\n",
       "      <td>1</td>\n",
       "      <td>0</td>\n",
       "    </tr>\n",
       "    <tr>\n",
       "      <th>1</th>\n",
       "      <td>0</td>\n",
       "      <td>0</td>\n",
       "      <td>1</td>\n",
       "      <td>0</td>\n",
       "    </tr>\n",
       "    <tr>\n",
       "      <th>2</th>\n",
       "      <td>1</td>\n",
       "      <td>0</td>\n",
       "      <td>0</td>\n",
       "      <td>0</td>\n",
       "    </tr>\n",
       "    <tr>\n",
       "      <th>3</th>\n",
       "      <td>0</td>\n",
       "      <td>1</td>\n",
       "      <td>0</td>\n",
       "      <td>0</td>\n",
       "    </tr>\n",
       "    <tr>\n",
       "      <th>4</th>\n",
       "      <td>0</td>\n",
       "      <td>0</td>\n",
       "      <td>1</td>\n",
       "      <td>0</td>\n",
       "    </tr>\n",
       "  </tbody>\n",
       "</table>\n",
       "</div>"
      ],
      "text/plain": [
       "   Adult  Mature  Old  Young\n",
       "0      0       0    1      0\n",
       "1      0       0    1      0\n",
       "2      1       0    0      0\n",
       "3      0       1    0      0\n",
       "4      0       0    1      0"
      ]
     },
     "execution_count": 8,
     "metadata": {},
     "output_type": "execute_result"
    }
   ],
   "source": [
    "d1= pd.get_dummies(data['age_cat'])\n",
    "d1.head()"
   ]
  },
  {
   "cell_type": "code",
   "execution_count": 9,
   "metadata": {},
   "outputs": [
    {
     "name": "stdout",
     "output_type": "stream",
     "text": [
      "y            no       yes\n",
      "Adult                    \n",
      "0      0.883132  0.116868\n",
      "1      0.900490  0.099510 \n",
      "\n",
      "Chi2 value= 244.52160929053852\n",
      "p-value= 1.0015466976149123e-52\n",
      "Degrees of freedom= 3\n",
      "\n",
      "y             no       yes\n",
      "Mature                    \n",
      "0       0.876192  0.123808\n",
      "1       0.921499  0.078501 \n",
      "\n",
      "Chi2 value= 244.52160929053852\n",
      "p-value= 1.0015466976149123e-52\n",
      "Degrees of freedom= 3\n",
      "\n",
      "y          no       yes\n",
      "Old                    \n",
      "0    0.894012  0.105988\n",
      "1    0.866201  0.133799 \n",
      "\n",
      "Chi2 value= 244.52160929053852\n",
      "p-value= 1.0015466976149123e-52\n",
      "Degrees of freedom= 3\n",
      "\n",
      "y            no       yes\n",
      "Young                    \n",
      "0      0.896308  0.103692\n",
      "1      0.863278  0.136722 \n",
      "\n",
      "Chi2 value= 244.52160929053852\n",
      "p-value= 1.0015466976149123e-52\n",
      "Degrees of freedom= 3\n",
      "\n"
     ]
    }
   ],
   "source": [
    "for series in d1:\n",
    "    nl = \"\\n\"\n",
    "    \n",
    "    crosstab = pd.crosstab(d1[f\"{series}\"], data['y'],normalize='index')\n",
    "    print(crosstab, nl)\n",
    "    chi2, p, dof, expected = stats.chi2_contingency(c1)\n",
    "    print(f\"Chi2 value= {chi2}{nl}p-value= {p}{nl}Degrees of freedom= {dof}{nl}\")"
   ]
  },
  {
   "cell_type": "markdown",
   "metadata": {},
   "source": [
    "__Observation-__ From the above table, we can infer that most of the clients who say 'yes' for term subscription they belong to __OLD(13%)__ and __YOUNG(14%)__ category."
   ]
  },
  {
   "cell_type": "markdown",
   "metadata": {},
   "source": [
    "### Conclusion of Age Category Column\n",
    "There is a __significant effect__ of age category of the client on the term deposit deposition. and most of the clients who say 'yes' for term subscription they belong to OLD and YOUNG category."
   ]
  },
  {
   "cell_type": "markdown",
   "metadata": {},
   "source": [
    "# Education Column"
   ]
  },
  {
   "cell_type": "markdown",
   "metadata": {},
   "source": [
    "### Define null and Alternate Hypothesis\n",
    "__Null Hypothesis: H0:__ There is no effect of education of the client on the term deposit subscription.\n",
    "\n",
    "__Alternate Hypothesis: H1:__ There is an effect of education of the client on the term deposit subscription."
   ]
  },
  {
   "cell_type": "code",
   "execution_count": 10,
   "metadata": {},
   "outputs": [
    {
     "data": {
      "text/html": [
       "<div>\n",
       "<style scoped>\n",
       "    .dataframe tbody tr th:only-of-type {\n",
       "        vertical-align: middle;\n",
       "    }\n",
       "\n",
       "    .dataframe tbody tr th {\n",
       "        vertical-align: top;\n",
       "    }\n",
       "\n",
       "    .dataframe thead th {\n",
       "        text-align: right;\n",
       "    }\n",
       "</style>\n",
       "<table border=\"1\" class=\"dataframe\">\n",
       "  <thead>\n",
       "    <tr style=\"text-align: right;\">\n",
       "      <th>y</th>\n",
       "      <th>no</th>\n",
       "      <th>yes</th>\n",
       "    </tr>\n",
       "    <tr>\n",
       "      <th>education</th>\n",
       "      <th></th>\n",
       "      <th></th>\n",
       "    </tr>\n",
       "  </thead>\n",
       "  <tbody>\n",
       "    <tr>\n",
       "      <th>basic.4y</th>\n",
       "      <td>3877</td>\n",
       "      <td>476</td>\n",
       "    </tr>\n",
       "    <tr>\n",
       "      <th>basic.6y</th>\n",
       "      <td>2104</td>\n",
       "      <td>188</td>\n",
       "    </tr>\n",
       "    <tr>\n",
       "      <th>basic.9y</th>\n",
       "      <td>6028</td>\n",
       "      <td>498</td>\n",
       "    </tr>\n",
       "    <tr>\n",
       "      <th>high.school</th>\n",
       "      <td>8739</td>\n",
       "      <td>1109</td>\n",
       "    </tr>\n",
       "    <tr>\n",
       "      <th>illiterate</th>\n",
       "      <td>14</td>\n",
       "      <td>4</td>\n",
       "    </tr>\n",
       "    <tr>\n",
       "      <th>professional.course</th>\n",
       "      <td>4847</td>\n",
       "      <td>623</td>\n",
       "    </tr>\n",
       "    <tr>\n",
       "      <th>university.degree</th>\n",
       "      <td>10939</td>\n",
       "      <td>1742</td>\n",
       "    </tr>\n",
       "  </tbody>\n",
       "</table>\n",
       "</div>"
      ],
      "text/plain": [
       "y                       no   yes\n",
       "education                       \n",
       "basic.4y              3877   476\n",
       "basic.6y              2104   188\n",
       "basic.9y              6028   498\n",
       "high.school           8739  1109\n",
       "illiterate              14     4\n",
       "professional.course   4847   623\n",
       "university.degree    10939  1742"
      ]
     },
     "execution_count": 10,
     "metadata": {},
     "output_type": "execute_result"
    }
   ],
   "source": [
    "c3= pd.crosstab(data['education'],data['y'])\n",
    "c3"
   ]
  },
  {
   "cell_type": "code",
   "execution_count": 11,
   "metadata": {},
   "outputs": [
    {
     "data": {
      "text/plain": [
       "(187.96404840958104,\n",
       " 6.893288776179271e-38,\n",
       " 6,\n",
       " array([[3.86261639e+03, 4.90383607e+02],\n",
       "        [2.03379664e+03, 2.58203360e+02],\n",
       "        [5.79081888e+03, 7.35181121e+02],\n",
       "        [8.73858172e+03, 1.10941828e+03],\n",
       "        [1.59722249e+01, 2.02777508e+00],\n",
       "        [4.85378168e+03, 6.16218316e+02],\n",
       "        [1.12524325e+04, 1.42856754e+03]]))"
      ]
     },
     "execution_count": 11,
     "metadata": {},
     "output_type": "execute_result"
    }
   ],
   "source": [
    "stats.chi2_contingency(c3)"
   ]
  },
  {
   "cell_type": "markdown",
   "metadata": {},
   "source": [
    "__Observation-__ Since, the p-value(6.893288776179271e-38) is less than 0.05, so, we can infer that our __null hypothesis is rejected__ and there is a significant effect of education of the client on the term deposit subscription."
   ]
  },
  {
   "cell_type": "markdown",
   "metadata": {},
   "source": [
    "### Post-Hoc Test of the education column"
   ]
  },
  {
   "cell_type": "code",
   "execution_count": 12,
   "metadata": {},
   "outputs": [
    {
     "data": {
      "text/html": [
       "<div>\n",
       "<style scoped>\n",
       "    .dataframe tbody tr th:only-of-type {\n",
       "        vertical-align: middle;\n",
       "    }\n",
       "\n",
       "    .dataframe tbody tr th {\n",
       "        vertical-align: top;\n",
       "    }\n",
       "\n",
       "    .dataframe thead th {\n",
       "        text-align: right;\n",
       "    }\n",
       "</style>\n",
       "<table border=\"1\" class=\"dataframe\">\n",
       "  <thead>\n",
       "    <tr style=\"text-align: right;\">\n",
       "      <th></th>\n",
       "      <th>basic.4y</th>\n",
       "      <th>basic.6y</th>\n",
       "      <th>basic.9y</th>\n",
       "      <th>high.school</th>\n",
       "      <th>illiterate</th>\n",
       "      <th>professional.course</th>\n",
       "      <th>university.degree</th>\n",
       "    </tr>\n",
       "  </thead>\n",
       "  <tbody>\n",
       "    <tr>\n",
       "      <th>0</th>\n",
       "      <td>1</td>\n",
       "      <td>0</td>\n",
       "      <td>0</td>\n",
       "      <td>0</td>\n",
       "      <td>0</td>\n",
       "      <td>0</td>\n",
       "      <td>0</td>\n",
       "    </tr>\n",
       "    <tr>\n",
       "      <th>1</th>\n",
       "      <td>0</td>\n",
       "      <td>0</td>\n",
       "      <td>0</td>\n",
       "      <td>1</td>\n",
       "      <td>0</td>\n",
       "      <td>0</td>\n",
       "      <td>0</td>\n",
       "    </tr>\n",
       "    <tr>\n",
       "      <th>2</th>\n",
       "      <td>0</td>\n",
       "      <td>0</td>\n",
       "      <td>0</td>\n",
       "      <td>1</td>\n",
       "      <td>0</td>\n",
       "      <td>0</td>\n",
       "      <td>0</td>\n",
       "    </tr>\n",
       "    <tr>\n",
       "      <th>3</th>\n",
       "      <td>0</td>\n",
       "      <td>1</td>\n",
       "      <td>0</td>\n",
       "      <td>0</td>\n",
       "      <td>0</td>\n",
       "      <td>0</td>\n",
       "      <td>0</td>\n",
       "    </tr>\n",
       "    <tr>\n",
       "      <th>4</th>\n",
       "      <td>0</td>\n",
       "      <td>0</td>\n",
       "      <td>0</td>\n",
       "      <td>1</td>\n",
       "      <td>0</td>\n",
       "      <td>0</td>\n",
       "      <td>0</td>\n",
       "    </tr>\n",
       "  </tbody>\n",
       "</table>\n",
       "</div>"
      ],
      "text/plain": [
       "   basic.4y  basic.6y  basic.9y  high.school  illiterate  professional.course  \\\n",
       "0         1         0         0            0           0                    0   \n",
       "1         0         0         0            1           0                    0   \n",
       "2         0         0         0            1           0                    0   \n",
       "3         0         1         0            0           0                    0   \n",
       "4         0         0         0            1           0                    0   \n",
       "\n",
       "   university.degree  \n",
       "0                  0  \n",
       "1                  0  \n",
       "2                  0  \n",
       "3                  0  \n",
       "4                  0  "
      ]
     },
     "execution_count": 12,
     "metadata": {},
     "output_type": "execute_result"
    }
   ],
   "source": [
    "d3= pd.get_dummies(data['education'])\n",
    "d3.head()"
   ]
  },
  {
   "cell_type": "code",
   "execution_count": 13,
   "metadata": {},
   "outputs": [
    {
     "name": "stdout",
     "output_type": "stream",
     "text": [
      "y               no       yes\n",
      "basic.4y                    \n",
      "0         0.886955  0.113045\n",
      "1         0.890650  0.109350 \n",
      "\n",
      "Chi2 value= 187.96404840958104\n",
      "p-value= 6.893288776179271e-38\n",
      "Degrees of freedom= 6\n",
      "\n",
      "y               no       yes\n",
      "basic.6y                    \n",
      "0         0.885541  0.114459\n",
      "1         0.917976  0.082024 \n",
      "\n",
      "Chi2 value= 187.96404840958104\n",
      "p-value= 6.893288776179271e-38\n",
      "Degrees of freedom= 6\n",
      "\n",
      "y               no       yes\n",
      "basic.9y                    \n",
      "0         0.880503  0.119497\n",
      "1         0.923690  0.076310 \n",
      "\n",
      "Chi2 value= 187.96404840958104\n",
      "p-value= 6.893288776179271e-38\n",
      "Degrees of freedom= 6\n",
      "\n",
      "y                  no       yes\n",
      "high.school                    \n",
      "0            0.887332  0.112668\n",
      "1            0.887388  0.112612 \n",
      "\n",
      "Chi2 value= 187.96404840958104\n",
      "p-value= 6.893288776179271e-38\n",
      "Degrees of freedom= 6\n",
      "\n",
      "y                 no       yes\n",
      "illiterate                    \n",
      "0           0.887394  0.112606\n",
      "1           0.777778  0.222222 \n",
      "\n",
      "Chi2 value= 187.96404840958104\n",
      "p-value= 6.893288776179271e-38\n",
      "Degrees of freedom= 6\n",
      "\n",
      "y                          no       yes\n",
      "professional.course                    \n",
      "0                    0.887536  0.112464\n",
      "1                    0.886106  0.113894 \n",
      "\n",
      "Chi2 value= 187.96404840958104\n",
      "p-value= 6.893288776179271e-38\n",
      "Degrees of freedom= 6\n",
      "\n",
      "y                        no       yes\n",
      "university.degree                    \n",
      "0                  0.898341  0.101659\n",
      "1                  0.862629  0.137371 \n",
      "\n",
      "Chi2 value= 187.96404840958104\n",
      "p-value= 6.893288776179271e-38\n",
      "Degrees of freedom= 6\n",
      "\n"
     ]
    }
   ],
   "source": [
    "for series in d3:\n",
    "    nl = \"\\n\"\n",
    "    \n",
    "    crosstab = pd.crosstab(d3[f\"{series}\"], data['y'], normalize='index')\n",
    "    print(crosstab, nl)\n",
    "    chi2, p, dof, expected = stats.chi2_contingency(c3)\n",
    "    print(f\"Chi2 value= {chi2}{nl}p-value= {p}{nl}Degrees of freedom= {dof}{nl}\")"
   ]
  },
  {
   "cell_type": "markdown",
   "metadata": {},
   "source": [
    "__Observation-__ From the above table, we can infer that most of the clients who say 'yes' for term subscription they are having __ILLITERATE(22%)__ and __UNIVERSITY.DEGREE(14%)__."
   ]
  },
  {
   "cell_type": "markdown",
   "metadata": {},
   "source": [
    "### Conclusion of Education Column\n",
    "There is a __significant effect__ of education of the client on the term deposit deposition. and most of the clients who say 'yes' for term subscription they are having ILLITERATE and UNIVERSITY.DEGREE."
   ]
  },
  {
   "cell_type": "markdown",
   "metadata": {},
   "source": [
    "# Default Column"
   ]
  },
  {
   "cell_type": "code",
   "execution_count": 14,
   "metadata": {},
   "outputs": [
    {
     "data": {
      "text/html": [
       "<div>\n",
       "<style scoped>\n",
       "    .dataframe tbody tr th:only-of-type {\n",
       "        vertical-align: middle;\n",
       "    }\n",
       "\n",
       "    .dataframe tbody tr th {\n",
       "        vertical-align: top;\n",
       "    }\n",
       "\n",
       "    .dataframe thead th {\n",
       "        text-align: right;\n",
       "    }\n",
       "</style>\n",
       "<table border=\"1\" class=\"dataframe\">\n",
       "  <thead>\n",
       "    <tr style=\"text-align: right;\">\n",
       "      <th>y</th>\n",
       "      <th>no</th>\n",
       "      <th>yes</th>\n",
       "    </tr>\n",
       "    <tr>\n",
       "      <th>default</th>\n",
       "      <th></th>\n",
       "      <th></th>\n",
       "    </tr>\n",
       "  </thead>\n",
       "  <tbody>\n",
       "    <tr>\n",
       "      <th>no</th>\n",
       "      <td>36545</td>\n",
       "      <td>4640</td>\n",
       "    </tr>\n",
       "    <tr>\n",
       "      <th>yes</th>\n",
       "      <td>3</td>\n",
       "      <td>0</td>\n",
       "    </tr>\n",
       "  </tbody>\n",
       "</table>\n",
       "</div>"
      ],
      "text/plain": [
       "y           no   yes\n",
       "default             \n",
       "no       36545  4640\n",
       "yes          3     0"
      ]
     },
     "execution_count": 14,
     "metadata": {},
     "output_type": "execute_result"
    }
   ],
   "source": [
    "c4= pd.crosstab(data['default'],data['y'])\n",
    "c4"
   ]
  },
  {
   "cell_type": "code",
   "execution_count": 15,
   "metadata": {},
   "outputs": [
    {
     "data": {
      "text/plain": [
       "(0.08755907942916237,\n",
       " 0.7673035224267515,\n",
       " 1,\n",
       " array([[3.65453380e+04, 4.63966204e+03],\n",
       "        [2.66203749e+00, 3.37962513e-01]]))"
      ]
     },
     "execution_count": 15,
     "metadata": {},
     "output_type": "execute_result"
    }
   ],
   "source": [
    "stats.chi2_contingency(c4)"
   ]
  },
  {
   "cell_type": "markdown",
   "metadata": {},
   "source": [
    "__Observation-__ Since, the p-value(0.7673035224267515) is more than 0.05, so, we can infer that our __null hypothesis is fail to reject__ and there is not a significant effect of 'credit in default' of the client on the term deposit subscription."
   ]
  },
  {
   "cell_type": "markdown",
   "metadata": {},
   "source": [
    "### Conclusion of Default Column\n",
    "There is a __no effect__ of 'credit in default' of the client on the term deposit subscrition and most of the clients who say 'yes' for term deposit subscription they are having NO credit in default."
   ]
  },
  {
   "cell_type": "markdown",
   "metadata": {},
   "source": [
    "# Housing Column"
   ]
  },
  {
   "cell_type": "markdown",
   "metadata": {},
   "source": [
    "### Define null and Alternate Hypothesis\n",
    "__Null Hypothesis: H0:__ There is no effect of housing loan of the client on the term deposit subscription.\n",
    "\n",
    "__Alternate Hypothesis: H1:__ There is an effect of housing loan of the client on the term deposit subscription."
   ]
  },
  {
   "cell_type": "code",
   "execution_count": 16,
   "metadata": {},
   "outputs": [
    {
     "data": {
      "text/html": [
       "<div>\n",
       "<style scoped>\n",
       "    .dataframe tbody tr th:only-of-type {\n",
       "        vertical-align: middle;\n",
       "    }\n",
       "\n",
       "    .dataframe tbody tr th {\n",
       "        vertical-align: top;\n",
       "    }\n",
       "\n",
       "    .dataframe thead th {\n",
       "        text-align: right;\n",
       "    }\n",
       "</style>\n",
       "<table border=\"1\" class=\"dataframe\">\n",
       "  <thead>\n",
       "    <tr style=\"text-align: right;\">\n",
       "      <th>y</th>\n",
       "      <th>no</th>\n",
       "      <th>yes</th>\n",
       "    </tr>\n",
       "    <tr>\n",
       "      <th>housing</th>\n",
       "      <th></th>\n",
       "      <th></th>\n",
       "    </tr>\n",
       "  </thead>\n",
       "  <tbody>\n",
       "    <tr>\n",
       "      <th>no</th>\n",
       "      <td>17000</td>\n",
       "      <td>2074</td>\n",
       "    </tr>\n",
       "    <tr>\n",
       "      <th>yes</th>\n",
       "      <td>19548</td>\n",
       "      <td>2566</td>\n",
       "    </tr>\n",
       "  </tbody>\n",
       "</table>\n",
       "</div>"
      ],
      "text/plain": [
       "y           no   yes\n",
       "housing             \n",
       "no       17000  2074\n",
       "yes      19548  2566"
      ]
     },
     "execution_count": 16,
     "metadata": {},
     "output_type": "execute_result"
    }
   ],
   "source": [
    "c5= pd.crosstab(data['housing'],data['y'])\n",
    "c5"
   ]
  },
  {
   "cell_type": "code",
   "execution_count": 17,
   "metadata": {},
   "outputs": [
    {
     "data": {
      "text/plain": [
       "(5.387626999544283,\n",
       " 0.020280031834089277,\n",
       " 1,\n",
       " array([[16925.2343401,  2148.7656599],\n",
       "        [19622.7656599,  2491.2343401]]))"
      ]
     },
     "execution_count": 17,
     "metadata": {},
     "output_type": "execute_result"
    }
   ],
   "source": [
    "stats.chi2_contingency(c5)"
   ]
  },
  {
   "cell_type": "markdown",
   "metadata": {},
   "source": [
    "__Observation-__ Since, the p-value(0.020280031834089277) is slightly less than 0.05, so, we can infer that our __null hypothesis is rejected__ and there is a very less significant effect of housing loan of the client on the term deposit subscription."
   ]
  },
  {
   "cell_type": "markdown",
   "metadata": {},
   "source": [
    "### Post-Hoc Test of the housing column"
   ]
  },
  {
   "cell_type": "code",
   "execution_count": 18,
   "metadata": {},
   "outputs": [
    {
     "data": {
      "text/html": [
       "<div>\n",
       "<style scoped>\n",
       "    .dataframe tbody tr th:only-of-type {\n",
       "        vertical-align: middle;\n",
       "    }\n",
       "\n",
       "    .dataframe tbody tr th {\n",
       "        vertical-align: top;\n",
       "    }\n",
       "\n",
       "    .dataframe thead th {\n",
       "        text-align: right;\n",
       "    }\n",
       "</style>\n",
       "<table border=\"1\" class=\"dataframe\">\n",
       "  <thead>\n",
       "    <tr style=\"text-align: right;\">\n",
       "      <th></th>\n",
       "      <th>no</th>\n",
       "      <th>yes</th>\n",
       "    </tr>\n",
       "  </thead>\n",
       "  <tbody>\n",
       "    <tr>\n",
       "      <th>0</th>\n",
       "      <td>1</td>\n",
       "      <td>0</td>\n",
       "    </tr>\n",
       "    <tr>\n",
       "      <th>1</th>\n",
       "      <td>1</td>\n",
       "      <td>0</td>\n",
       "    </tr>\n",
       "    <tr>\n",
       "      <th>2</th>\n",
       "      <td>0</td>\n",
       "      <td>1</td>\n",
       "    </tr>\n",
       "    <tr>\n",
       "      <th>3</th>\n",
       "      <td>1</td>\n",
       "      <td>0</td>\n",
       "    </tr>\n",
       "    <tr>\n",
       "      <th>4</th>\n",
       "      <td>1</td>\n",
       "      <td>0</td>\n",
       "    </tr>\n",
       "  </tbody>\n",
       "</table>\n",
       "</div>"
      ],
      "text/plain": [
       "   no  yes\n",
       "0   1    0\n",
       "1   1    0\n",
       "2   0    1\n",
       "3   1    0\n",
       "4   1    0"
      ]
     },
     "execution_count": 18,
     "metadata": {},
     "output_type": "execute_result"
    }
   ],
   "source": [
    "d5= pd.get_dummies(data['housing'])\n",
    "d5.head()"
   ]
  },
  {
   "cell_type": "code",
   "execution_count": 19,
   "metadata": {},
   "outputs": [
    {
     "name": "stdout",
     "output_type": "stream",
     "text": [
      "y         no       yes\n",
      "no                    \n",
      "0   0.883965  0.116035\n",
      "1   0.891266  0.108734 \n",
      "\n",
      "Chi2 value= 5.387626999544283\n",
      "p-value= 0.020280031834089277\n",
      "Degrees of freedom= 1\n",
      "\n",
      "y          no       yes\n",
      "yes                    \n",
      "0    0.891266  0.108734\n",
      "1    0.883965  0.116035 \n",
      "\n",
      "Chi2 value= 5.387626999544283\n",
      "p-value= 0.020280031834089277\n",
      "Degrees of freedom= 1\n",
      "\n"
     ]
    }
   ],
   "source": [
    "for series in d5:\n",
    "    nl = \"\\n\"\n",
    "    \n",
    "    crosstab = pd.crosstab(d5[f\"{series}\"], data['y'], normalize='index')\n",
    "    print(crosstab, nl)\n",
    "    chi2, p, dof, expected = stats.chi2_contingency(c5)\n",
    "    print(f\"Chi2 value= {chi2}{nl}p-value= {p}{nl}Degrees of freedom= {dof}{nl}\")"
   ]
  },
  {
   "cell_type": "markdown",
   "metadata": {},
   "source": [
    "__Observation-__ From the above table, we can infer that there is a __good balance__ between the clients who say 'yes' for term subscription as having clients housing loan(~11%) and clients not having house loan(~11%)."
   ]
  },
  {
   "cell_type": "markdown",
   "metadata": {},
   "source": [
    "# Loan Column"
   ]
  },
  {
   "cell_type": "markdown",
   "metadata": {},
   "source": [
    "### Define null and Alternate Hypothesis\n",
    "__Null Hypothesis: H0:__ There is no effect of personal loan of the client on the term deposit subscription.\n",
    "\n",
    "__Alternate Hypothesis: H1:__ There is an effect of personal loan of the client on the term deposit subscription."
   ]
  },
  {
   "cell_type": "code",
   "execution_count": 20,
   "metadata": {},
   "outputs": [
    {
     "data": {
      "text/html": [
       "<div>\n",
       "<style scoped>\n",
       "    .dataframe tbody tr th:only-of-type {\n",
       "        vertical-align: middle;\n",
       "    }\n",
       "\n",
       "    .dataframe tbody tr th {\n",
       "        vertical-align: top;\n",
       "    }\n",
       "\n",
       "    .dataframe thead th {\n",
       "        text-align: right;\n",
       "    }\n",
       "</style>\n",
       "<table border=\"1\" class=\"dataframe\">\n",
       "  <thead>\n",
       "    <tr style=\"text-align: right;\">\n",
       "      <th>y</th>\n",
       "      <th>no</th>\n",
       "      <th>yes</th>\n",
       "    </tr>\n",
       "    <tr>\n",
       "      <th>loan</th>\n",
       "      <th></th>\n",
       "      <th></th>\n",
       "    </tr>\n",
       "  </thead>\n",
       "  <tbody>\n",
       "    <tr>\n",
       "      <th>no</th>\n",
       "      <td>30839</td>\n",
       "      <td>3942</td>\n",
       "    </tr>\n",
       "    <tr>\n",
       "      <th>yes</th>\n",
       "      <td>5709</td>\n",
       "      <td>698</td>\n",
       "    </tr>\n",
       "  </tbody>\n",
       "</table>\n",
       "</div>"
      ],
      "text/plain": [
       "y        no   yes\n",
       "loan             \n",
       "no    30839  3942\n",
       "yes    5709   698"
      ]
     },
     "execution_count": 20,
     "metadata": {},
     "output_type": "execute_result"
    }
   ],
   "source": [
    "c6= pd.crosstab(data['loan'],data['y'])\n",
    "c6"
   ]
  },
  {
   "cell_type": "code",
   "execution_count": 21,
   "metadata": {},
   "outputs": [
    {
     "data": {
      "text/plain": [
       "(1.001666950509534,\n",
       " 0.316907490545382,\n",
       " 1,\n",
       " array([[30862.77527435,  3918.22472565],\n",
       "        [ 5685.22472565,   721.77527435]]))"
      ]
     },
     "execution_count": 21,
     "metadata": {},
     "output_type": "execute_result"
    }
   ],
   "source": [
    "stats.chi2_contingency(c6)"
   ]
  },
  {
   "cell_type": "markdown",
   "metadata": {},
   "source": [
    "__Observation-__ Since, the p-value(0.316907490545382) is more than 0.05, so, we can infer that our __null hypothesis is fail to reject__ and there is no significant effect of personal loan of the client on the term deposit subscription."
   ]
  },
  {
   "cell_type": "markdown",
   "metadata": {},
   "source": [
    "### Conclusion of Loan Column\n",
    "There is a __no significant effect__ of personal loan of the client on the term deposit subscrition."
   ]
  },
  {
   "cell_type": "markdown",
   "metadata": {},
   "source": [
    "# Marital Column"
   ]
  },
  {
   "cell_type": "markdown",
   "metadata": {},
   "source": [
    "### Define null and Alternate Hypothesis\n",
    "__Null Hypothesis: H0:__ There is no effect of marital status of the client on the term deposit subscription.\n",
    "\n",
    "__Alternate Hypothesis: H1:__ There is an effect of marital status of the client on the term deposit subscription."
   ]
  },
  {
   "cell_type": "code",
   "execution_count": 22,
   "metadata": {},
   "outputs": [
    {
     "data": {
      "text/html": [
       "<div>\n",
       "<style scoped>\n",
       "    .dataframe tbody tr th:only-of-type {\n",
       "        vertical-align: middle;\n",
       "    }\n",
       "\n",
       "    .dataframe tbody tr th {\n",
       "        vertical-align: top;\n",
       "    }\n",
       "\n",
       "    .dataframe thead th {\n",
       "        text-align: right;\n",
       "    }\n",
       "</style>\n",
       "<table border=\"1\" class=\"dataframe\">\n",
       "  <thead>\n",
       "    <tr style=\"text-align: right;\">\n",
       "      <th>y</th>\n",
       "      <th>no</th>\n",
       "      <th>yes</th>\n",
       "    </tr>\n",
       "    <tr>\n",
       "      <th>marital</th>\n",
       "      <th></th>\n",
       "      <th></th>\n",
       "    </tr>\n",
       "  </thead>\n",
       "  <tbody>\n",
       "    <tr>\n",
       "      <th>divorced</th>\n",
       "      <td>4136</td>\n",
       "      <td>476</td>\n",
       "    </tr>\n",
       "    <tr>\n",
       "      <th>married</th>\n",
       "      <td>22446</td>\n",
       "      <td>2538</td>\n",
       "    </tr>\n",
       "    <tr>\n",
       "      <th>single</th>\n",
       "      <td>9966</td>\n",
       "      <td>1626</td>\n",
       "    </tr>\n",
       "  </tbody>\n",
       "</table>\n",
       "</div>"
      ],
      "text/plain": [
       "y            no   yes\n",
       "marital              \n",
       "divorced   4136   476\n",
       "married   22446  2538\n",
       "single     9966  1626"
      ]
     },
     "execution_count": 22,
     "metadata": {},
     "output_type": "execute_result"
    }
   ],
   "source": [
    "c11= pd.crosstab(data['marital'],data['y'])\n",
    "c11"
   ]
  },
  {
   "cell_type": "code",
   "execution_count": 23,
   "metadata": {},
   "outputs": [
    {
     "data": {
      "text/plain": [
       "(123.17077425521249,\n",
       " 1.7939329408092675e-27,\n",
       " 2,\n",
       " array([[ 4092.4389628 ,   519.5610372 ],\n",
       "        [22169.44818879,  2814.55181121],\n",
       "        [10286.1128484 ,  1305.8871516 ]]))"
      ]
     },
     "execution_count": 23,
     "metadata": {},
     "output_type": "execute_result"
    }
   ],
   "source": [
    "stats.chi2_contingency(c11)"
   ]
  },
  {
   "cell_type": "markdown",
   "metadata": {},
   "source": [
    "__Observation-__ Since, the p-value(1.7939329408092675e-27) is less than 0.05, so, we can infer that our __null hypothesis is rejected__ and there is a significant effect of marital status of the client on the term deposit subscription."
   ]
  },
  {
   "cell_type": "markdown",
   "metadata": {},
   "source": [
    "### Post-Hoc Test of the marital column"
   ]
  },
  {
   "cell_type": "code",
   "execution_count": 24,
   "metadata": {},
   "outputs": [
    {
     "data": {
      "text/html": [
       "<div>\n",
       "<style scoped>\n",
       "    .dataframe tbody tr th:only-of-type {\n",
       "        vertical-align: middle;\n",
       "    }\n",
       "\n",
       "    .dataframe tbody tr th {\n",
       "        vertical-align: top;\n",
       "    }\n",
       "\n",
       "    .dataframe thead th {\n",
       "        text-align: right;\n",
       "    }\n",
       "</style>\n",
       "<table border=\"1\" class=\"dataframe\">\n",
       "  <thead>\n",
       "    <tr style=\"text-align: right;\">\n",
       "      <th></th>\n",
       "      <th>divorced</th>\n",
       "      <th>married</th>\n",
       "      <th>single</th>\n",
       "    </tr>\n",
       "  </thead>\n",
       "  <tbody>\n",
       "    <tr>\n",
       "      <th>0</th>\n",
       "      <td>0</td>\n",
       "      <td>1</td>\n",
       "      <td>0</td>\n",
       "    </tr>\n",
       "    <tr>\n",
       "      <th>1</th>\n",
       "      <td>0</td>\n",
       "      <td>1</td>\n",
       "      <td>0</td>\n",
       "    </tr>\n",
       "    <tr>\n",
       "      <th>2</th>\n",
       "      <td>0</td>\n",
       "      <td>1</td>\n",
       "      <td>0</td>\n",
       "    </tr>\n",
       "    <tr>\n",
       "      <th>3</th>\n",
       "      <td>0</td>\n",
       "      <td>1</td>\n",
       "      <td>0</td>\n",
       "    </tr>\n",
       "    <tr>\n",
       "      <th>4</th>\n",
       "      <td>0</td>\n",
       "      <td>1</td>\n",
       "      <td>0</td>\n",
       "    </tr>\n",
       "  </tbody>\n",
       "</table>\n",
       "</div>"
      ],
      "text/plain": [
       "   divorced  married  single\n",
       "0         0        1       0\n",
       "1         0        1       0\n",
       "2         0        1       0\n",
       "3         0        1       0\n",
       "4         0        1       0"
      ]
     },
     "execution_count": 24,
     "metadata": {},
     "output_type": "execute_result"
    }
   ],
   "source": [
    "d11= pd.get_dummies(data['marital'])\n",
    "d11.head()"
   ]
  },
  {
   "cell_type": "code",
   "execution_count": 25,
   "metadata": {},
   "outputs": [
    {
     "name": "stdout",
     "output_type": "stream",
     "text": [
      "y               no       yes\n",
      "divorced                    \n",
      "0         0.886155  0.113845\n",
      "1         0.896791  0.103209 \n",
      "\n",
      "Chi2 value= 123.17077425521249\n",
      "p-value= 1.7939329408092675e-27\n",
      "Degrees of freedom= 2\n",
      "\n",
      "y              no       yes\n",
      "married                    \n",
      "0        0.870279  0.129721\n",
      "1        0.898415  0.101585 \n",
      "\n",
      "Chi2 value= 123.17077425521249\n",
      "p-value= 1.7939329408092675e-27\n",
      "Degrees of freedom= 2\n",
      "\n",
      "y             no       yes\n",
      "single                    \n",
      "0       0.898162  0.101838\n",
      "1       0.859731  0.140269 \n",
      "\n",
      "Chi2 value= 123.17077425521249\n",
      "p-value= 1.7939329408092675e-27\n",
      "Degrees of freedom= 2\n",
      "\n"
     ]
    }
   ],
   "source": [
    "for series in d11:\n",
    "    nl = \"\\n\"\n",
    "    \n",
    "    crosstab = pd.crosstab(d11[f\"{series}\"], data['y'], normalize='index')\n",
    "    print(crosstab, nl)\n",
    "    chi2, p, dof, expected = stats.chi2_contingency(c11)\n",
    "    print(f\"Chi2 value= {chi2}{nl}p-value= {p}{nl}Degrees of freedom= {dof}{nl}\")"
   ]
  },
  {
   "cell_type": "markdown",
   "metadata": {},
   "source": [
    "__Observation-__ From the above table, we can infer that most of the clients who say 'yes' for term subscription they are having __SINGLE(14%)__ as marital status."
   ]
  },
  {
   "cell_type": "markdown",
   "metadata": {},
   "source": [
    "### Conclusion of Marital Column\n",
    "There is a __significant effect__ of education of the client on the term deposit deposition. and most of the clients who say 'yes' for term subscription  they are having SINGLE as marital status."
   ]
  },
  {
   "cell_type": "markdown",
   "metadata": {},
   "source": [
    "# 'Contact' Column"
   ]
  },
  {
   "cell_type": "markdown",
   "metadata": {},
   "source": [
    "### Define null and Alternate Hypothesis\n",
    "__Null Hypothesis: H0:__ There is no effect of contact communication type of the client on the term deposit subscription.\n",
    "\n",
    "__Alternate Hypothesis: H1:__ There is an effect of contact communication type of the client on the term deposit subscription."
   ]
  },
  {
   "cell_type": "code",
   "execution_count": 26,
   "metadata": {},
   "outputs": [
    {
     "data": {
      "text/html": [
       "<div>\n",
       "<style scoped>\n",
       "    .dataframe tbody tr th:only-of-type {\n",
       "        vertical-align: middle;\n",
       "    }\n",
       "\n",
       "    .dataframe tbody tr th {\n",
       "        vertical-align: top;\n",
       "    }\n",
       "\n",
       "    .dataframe thead th {\n",
       "        text-align: right;\n",
       "    }\n",
       "</style>\n",
       "<table border=\"1\" class=\"dataframe\">\n",
       "  <thead>\n",
       "    <tr style=\"text-align: right;\">\n",
       "      <th>y</th>\n",
       "      <th>no</th>\n",
       "      <th>yes</th>\n",
       "    </tr>\n",
       "    <tr>\n",
       "      <th>contact</th>\n",
       "      <th></th>\n",
       "      <th></th>\n",
       "    </tr>\n",
       "  </thead>\n",
       "  <tbody>\n",
       "    <tr>\n",
       "      <th>cellular</th>\n",
       "      <td>22291</td>\n",
       "      <td>3853</td>\n",
       "    </tr>\n",
       "    <tr>\n",
       "      <th>telephone</th>\n",
       "      <td>14257</td>\n",
       "      <td>787</td>\n",
       "    </tr>\n",
       "  </tbody>\n",
       "</table>\n",
       "</div>"
      ],
      "text/plain": [
       "y             no   yes\n",
       "contact               \n",
       "cellular   22291  3853\n",
       "telephone  14257   787"
      ]
     },
     "execution_count": 26,
     "metadata": {},
     "output_type": "execute_result"
    }
   ],
   "source": [
    "c7= pd.crosstab(data['contact'],data['y'])\n",
    "c7"
   ]
  },
  {
   "cell_type": "code",
   "execution_count": 27,
   "metadata": {},
   "outputs": [
    {
     "data": {
      "text/plain": [
       "(862.3183642075705,\n",
       " 1.5259856523129964e-189,\n",
       " 1,\n",
       " array([[23198.7693503,  2945.2306497],\n",
       "        [13349.2306497,  1694.7693503]]))"
      ]
     },
     "execution_count": 27,
     "metadata": {},
     "output_type": "execute_result"
    }
   ],
   "source": [
    "stats.chi2_contingency(c7)"
   ]
  },
  {
   "cell_type": "markdown",
   "metadata": {},
   "source": [
    "__Observation-__ Since, the p-value(1.5259856523129964e-189) is less than 0.05, so, we can infer that our __null hypothesis is rejected__ and there is a significant effect of type of contact of the client on the term deposit subscription."
   ]
  },
  {
   "cell_type": "markdown",
   "metadata": {},
   "source": [
    "### Post-Hoc Test of the contact column"
   ]
  },
  {
   "cell_type": "code",
   "execution_count": 28,
   "metadata": {},
   "outputs": [
    {
     "data": {
      "text/html": [
       "<div>\n",
       "<style scoped>\n",
       "    .dataframe tbody tr th:only-of-type {\n",
       "        vertical-align: middle;\n",
       "    }\n",
       "\n",
       "    .dataframe tbody tr th {\n",
       "        vertical-align: top;\n",
       "    }\n",
       "\n",
       "    .dataframe thead th {\n",
       "        text-align: right;\n",
       "    }\n",
       "</style>\n",
       "<table border=\"1\" class=\"dataframe\">\n",
       "  <thead>\n",
       "    <tr style=\"text-align: right;\">\n",
       "      <th></th>\n",
       "      <th>cellular</th>\n",
       "      <th>telephone</th>\n",
       "    </tr>\n",
       "  </thead>\n",
       "  <tbody>\n",
       "    <tr>\n",
       "      <th>0</th>\n",
       "      <td>0</td>\n",
       "      <td>1</td>\n",
       "    </tr>\n",
       "    <tr>\n",
       "      <th>1</th>\n",
       "      <td>0</td>\n",
       "      <td>1</td>\n",
       "    </tr>\n",
       "    <tr>\n",
       "      <th>2</th>\n",
       "      <td>0</td>\n",
       "      <td>1</td>\n",
       "    </tr>\n",
       "    <tr>\n",
       "      <th>3</th>\n",
       "      <td>0</td>\n",
       "      <td>1</td>\n",
       "    </tr>\n",
       "    <tr>\n",
       "      <th>4</th>\n",
       "      <td>0</td>\n",
       "      <td>1</td>\n",
       "    </tr>\n",
       "  </tbody>\n",
       "</table>\n",
       "</div>"
      ],
      "text/plain": [
       "   cellular  telephone\n",
       "0         0          1\n",
       "1         0          1\n",
       "2         0          1\n",
       "3         0          1\n",
       "4         0          1"
      ]
     },
     "execution_count": 28,
     "metadata": {},
     "output_type": "execute_result"
    }
   ],
   "source": [
    "d7= pd.get_dummies(data['contact'])\n",
    "d7.head()"
   ]
  },
  {
   "cell_type": "code",
   "execution_count": 29,
   "metadata": {},
   "outputs": [
    {
     "name": "stdout",
     "output_type": "stream",
     "text": [
      "y               no       yes\n",
      "cellular                    \n",
      "0         0.947687  0.052313\n",
      "1         0.852624  0.147376 \n",
      "\n",
      "Chi2 value= 862.3183642075705\n",
      "p-value= 1.5259856523129964e-189\n",
      "Degrees of freedom= 1\n",
      "\n",
      "y                no       yes\n",
      "telephone                    \n",
      "0          0.852624  0.147376\n",
      "1          0.947687  0.052313 \n",
      "\n",
      "Chi2 value= 862.3183642075705\n",
      "p-value= 1.5259856523129964e-189\n",
      "Degrees of freedom= 1\n",
      "\n"
     ]
    }
   ],
   "source": [
    "for series in d7:\n",
    "    nl = \"\\n\"\n",
    "    \n",
    "    crosstab = pd.crosstab(d7[f\"{series}\"], data['y'], normalize='index')\n",
    "    print(crosstab, nl)\n",
    "    chi2, p, dof, expected = stats.chi2_contingency(c7)\n",
    "    print(f\"Chi2 value= {chi2}{nl}p-value= {p}{nl}Degrees of freedom= {dof}{nl}\")"
   ]
  },
  {
   "cell_type": "markdown",
   "metadata": {},
   "source": [
    "__Observation-__ From the above table, we can infer that most of the clients who say 'yes' for term subscription their type of contact is __CELLULAR(15%)__."
   ]
  },
  {
   "cell_type": "markdown",
   "metadata": {},
   "source": [
    "### Conclusion of Contact Column\n",
    "There is a __significant effect__ of type of contact of the client on the term deposit subscrition and most of the clients who say 'yes' for term subscription their type of contact is CELLULAR."
   ]
  },
  {
   "cell_type": "markdown",
   "metadata": {},
   "source": [
    "# Month Column"
   ]
  },
  {
   "cell_type": "markdown",
   "metadata": {},
   "source": [
    "### Define null and Alternate Hypothesis\n",
    "__Null Hypothesis: H0:__ There is no effect of last contacted month to the client on the term deposit subscription.\n",
    "\n",
    "__Alternate Hypothesis: H1:__ There is an effect of last contacted month to the client on the term deposit subscription."
   ]
  },
  {
   "cell_type": "code",
   "execution_count": 30,
   "metadata": {},
   "outputs": [
    {
     "data": {
      "text/html": [
       "<div>\n",
       "<style scoped>\n",
       "    .dataframe tbody tr th:only-of-type {\n",
       "        vertical-align: middle;\n",
       "    }\n",
       "\n",
       "    .dataframe tbody tr th {\n",
       "        vertical-align: top;\n",
       "    }\n",
       "\n",
       "    .dataframe thead th {\n",
       "        text-align: right;\n",
       "    }\n",
       "</style>\n",
       "<table border=\"1\" class=\"dataframe\">\n",
       "  <thead>\n",
       "    <tr style=\"text-align: right;\">\n",
       "      <th>y</th>\n",
       "      <th>no</th>\n",
       "      <th>yes</th>\n",
       "    </tr>\n",
       "    <tr>\n",
       "      <th>month</th>\n",
       "      <th></th>\n",
       "      <th></th>\n",
       "    </tr>\n",
       "  </thead>\n",
       "  <tbody>\n",
       "    <tr>\n",
       "      <th>apr</th>\n",
       "      <td>2093</td>\n",
       "      <td>539</td>\n",
       "    </tr>\n",
       "    <tr>\n",
       "      <th>aug</th>\n",
       "      <td>5523</td>\n",
       "      <td>655</td>\n",
       "    </tr>\n",
       "    <tr>\n",
       "      <th>dec</th>\n",
       "      <td>93</td>\n",
       "      <td>89</td>\n",
       "    </tr>\n",
       "    <tr>\n",
       "      <th>jul</th>\n",
       "      <td>6525</td>\n",
       "      <td>649</td>\n",
       "    </tr>\n",
       "    <tr>\n",
       "      <th>jun</th>\n",
       "      <td>4759</td>\n",
       "      <td>559</td>\n",
       "    </tr>\n",
       "    <tr>\n",
       "      <th>mar</th>\n",
       "      <td>270</td>\n",
       "      <td>276</td>\n",
       "    </tr>\n",
       "    <tr>\n",
       "      <th>may</th>\n",
       "      <td>12883</td>\n",
       "      <td>886</td>\n",
       "    </tr>\n",
       "    <tr>\n",
       "      <th>nov</th>\n",
       "      <td>3685</td>\n",
       "      <td>416</td>\n",
       "    </tr>\n",
       "    <tr>\n",
       "      <th>oct</th>\n",
       "      <td>403</td>\n",
       "      <td>315</td>\n",
       "    </tr>\n",
       "    <tr>\n",
       "      <th>sep</th>\n",
       "      <td>314</td>\n",
       "      <td>256</td>\n",
       "    </tr>\n",
       "  </tbody>\n",
       "</table>\n",
       "</div>"
      ],
      "text/plain": [
       "y         no  yes\n",
       "month            \n",
       "apr     2093  539\n",
       "aug     5523  655\n",
       "dec       93   89\n",
       "jul     6525  649\n",
       "jun     4759  559\n",
       "mar      270  276\n",
       "may    12883  886\n",
       "nov     3685  416\n",
       "oct      403  315\n",
       "sep      314  256"
      ]
     },
     "execution_count": 30,
     "metadata": {},
     "output_type": "execute_result"
    }
   ],
   "source": [
    "c8= pd.crosstab(data['month'],data['y'])\n",
    "c8"
   ]
  },
  {
   "cell_type": "code",
   "execution_count": 31,
   "metadata": {},
   "outputs": [
    {
     "data": {
      "text/plain": [
       "(3101.149351411678, 0.0, 9, array([[ 2335.49422162,   296.50577838],\n",
       "        [ 5482.02253083,   695.97746917],\n",
       "        [  161.49694086,    20.50305914],\n",
       "        [ 6365.8189764 ,   808.1810236 ],\n",
       "        [ 4718.905118  ,   599.094882  ],\n",
       "        [  484.49082257,    61.50917743],\n",
       "        [12217.86471788,  1551.13528212],\n",
       "        [ 3639.00524425,   461.99475575],\n",
       "        [  637.11430514,    80.88569486],\n",
       "        [  505.78712246,    64.21287754]]))"
      ]
     },
     "execution_count": 31,
     "metadata": {},
     "output_type": "execute_result"
    }
   ],
   "source": [
    "stats.chi2_contingency(c8)"
   ]
  },
  {
   "cell_type": "markdown",
   "metadata": {},
   "source": [
    "__Observation-__ Since, the p-value(0.0) is less than 0.05, so, we can infer that our __null hypothesis is rejected__ and there is a significant effect of last contacted month to the client on the term deposit subscription."
   ]
  },
  {
   "cell_type": "markdown",
   "metadata": {},
   "source": [
    "### Post Hoc Test of Month Column"
   ]
  },
  {
   "cell_type": "code",
   "execution_count": 32,
   "metadata": {},
   "outputs": [
    {
     "data": {
      "text/html": [
       "<div>\n",
       "<style scoped>\n",
       "    .dataframe tbody tr th:only-of-type {\n",
       "        vertical-align: middle;\n",
       "    }\n",
       "\n",
       "    .dataframe tbody tr th {\n",
       "        vertical-align: top;\n",
       "    }\n",
       "\n",
       "    .dataframe thead th {\n",
       "        text-align: right;\n",
       "    }\n",
       "</style>\n",
       "<table border=\"1\" class=\"dataframe\">\n",
       "  <thead>\n",
       "    <tr style=\"text-align: right;\">\n",
       "      <th></th>\n",
       "      <th>apr</th>\n",
       "      <th>aug</th>\n",
       "      <th>dec</th>\n",
       "      <th>jul</th>\n",
       "      <th>jun</th>\n",
       "      <th>mar</th>\n",
       "      <th>may</th>\n",
       "      <th>nov</th>\n",
       "      <th>oct</th>\n",
       "      <th>sep</th>\n",
       "    </tr>\n",
       "  </thead>\n",
       "  <tbody>\n",
       "    <tr>\n",
       "      <th>0</th>\n",
       "      <td>0</td>\n",
       "      <td>0</td>\n",
       "      <td>0</td>\n",
       "      <td>0</td>\n",
       "      <td>0</td>\n",
       "      <td>0</td>\n",
       "      <td>1</td>\n",
       "      <td>0</td>\n",
       "      <td>0</td>\n",
       "      <td>0</td>\n",
       "    </tr>\n",
       "    <tr>\n",
       "      <th>1</th>\n",
       "      <td>0</td>\n",
       "      <td>0</td>\n",
       "      <td>0</td>\n",
       "      <td>0</td>\n",
       "      <td>0</td>\n",
       "      <td>0</td>\n",
       "      <td>1</td>\n",
       "      <td>0</td>\n",
       "      <td>0</td>\n",
       "      <td>0</td>\n",
       "    </tr>\n",
       "    <tr>\n",
       "      <th>2</th>\n",
       "      <td>0</td>\n",
       "      <td>0</td>\n",
       "      <td>0</td>\n",
       "      <td>0</td>\n",
       "      <td>0</td>\n",
       "      <td>0</td>\n",
       "      <td>1</td>\n",
       "      <td>0</td>\n",
       "      <td>0</td>\n",
       "      <td>0</td>\n",
       "    </tr>\n",
       "    <tr>\n",
       "      <th>3</th>\n",
       "      <td>0</td>\n",
       "      <td>0</td>\n",
       "      <td>0</td>\n",
       "      <td>0</td>\n",
       "      <td>0</td>\n",
       "      <td>0</td>\n",
       "      <td>1</td>\n",
       "      <td>0</td>\n",
       "      <td>0</td>\n",
       "      <td>0</td>\n",
       "    </tr>\n",
       "    <tr>\n",
       "      <th>4</th>\n",
       "      <td>0</td>\n",
       "      <td>0</td>\n",
       "      <td>0</td>\n",
       "      <td>0</td>\n",
       "      <td>0</td>\n",
       "      <td>0</td>\n",
       "      <td>1</td>\n",
       "      <td>0</td>\n",
       "      <td>0</td>\n",
       "      <td>0</td>\n",
       "    </tr>\n",
       "  </tbody>\n",
       "</table>\n",
       "</div>"
      ],
      "text/plain": [
       "   apr  aug  dec  jul  jun  mar  may  nov  oct  sep\n",
       "0    0    0    0    0    0    0    1    0    0    0\n",
       "1    0    0    0    0    0    0    1    0    0    0\n",
       "2    0    0    0    0    0    0    1    0    0    0\n",
       "3    0    0    0    0    0    0    1    0    0    0\n",
       "4    0    0    0    0    0    0    1    0    0    0"
      ]
     },
     "execution_count": 32,
     "metadata": {},
     "output_type": "execute_result"
    }
   ],
   "source": [
    "d8= pd.get_dummies(data['month'])\n",
    "d8.head()"
   ]
  },
  {
   "cell_type": "code",
   "execution_count": 33,
   "metadata": {},
   "outputs": [
    {
     "name": "stdout",
     "output_type": "stream",
     "text": [
      "y          no       yes\n",
      "apr                    \n",
      "0    0.893635  0.106365\n",
      "1    0.795213  0.204787 \n",
      "\n",
      "Chi2 value= 3101.149351411678\n",
      "p-value= 0.0\n",
      "Degrees of freedom= 9\n",
      "\n",
      "y          no       yes\n",
      "aug                    \n",
      "0    0.886175  0.113825\n",
      "1    0.893979  0.106021 \n",
      "\n",
      "Chi2 value= 3101.149351411678\n",
      "p-value= 0.0\n",
      "Degrees of freedom= 9\n",
      "\n",
      "y          no       yes\n",
      "dec                    \n",
      "0    0.889016  0.110984\n",
      "1    0.510989  0.489011 \n",
      "\n",
      "Chi2 value= 3101.149351411678\n",
      "p-value= 0.0\n",
      "Degrees of freedom= 9\n",
      "\n",
      "y          no       yes\n",
      "jul                    \n",
      "0    0.882666  0.117334\n",
      "1    0.909534  0.090466 \n",
      "\n",
      "Chi2 value= 3101.149351411678\n",
      "p-value= 0.0\n",
      "Degrees of freedom= 9\n",
      "\n",
      "y          no       yes\n",
      "jun                    \n",
      "0    0.886228  0.113772\n",
      "1    0.894885  0.105115 \n",
      "\n",
      "Chi2 value= 3101.149351411678\n",
      "p-value= 0.0\n",
      "Degrees of freedom= 9\n",
      "\n",
      "y          no       yes\n",
      "mar                    \n",
      "0    0.892623  0.107377\n",
      "1    0.494505  0.505495 \n",
      "\n",
      "Chi2 value= 3101.149351411678\n",
      "p-value= 0.0\n",
      "Degrees of freedom= 9\n",
      "\n",
      "y          no       yes\n",
      "may                    \n",
      "0    0.863088  0.136912\n",
      "1    0.935653  0.064347 \n",
      "\n",
      "Chi2 value= 3101.149351411678\n",
      "p-value= 0.0\n",
      "Degrees of freedom= 9\n",
      "\n",
      "y          no       yes\n",
      "nov                    \n",
      "0    0.886106  0.113894\n",
      "1    0.898561  0.101439 \n",
      "\n",
      "Chi2 value= 3101.149351411678\n",
      "p-value= 0.0\n",
      "Degrees of freedom= 9\n",
      "\n",
      "y          no       yes\n",
      "oct                    \n",
      "0    0.893131  0.106869\n",
      "1    0.561281  0.438719 \n",
      "\n",
      "Chi2 value= 3101.149351411678\n",
      "p-value= 0.0\n",
      "Degrees of freedom= 9\n",
      "\n",
      "y          no       yes\n",
      "sep                    \n",
      "0    0.892068  0.107932\n",
      "1    0.550877  0.449123 \n",
      "\n",
      "Chi2 value= 3101.149351411678\n",
      "p-value= 0.0\n",
      "Degrees of freedom= 9\n",
      "\n"
     ]
    }
   ],
   "source": [
    "for series in d8:\n",
    "    nl = \"\\n\"\n",
    "    \n",
    "    crosstab = pd.crosstab(d8[f\"{series}\"], data['y'], normalize='index')\n",
    "    print(crosstab, nl)\n",
    "    chi2, p, dof, expected = stats.chi2_contingency(c8)\n",
    "    print(f\"Chi2 value= {chi2}{nl}p-value= {p}{nl}Degrees of freedom= {dof}{nl}\")"
   ]
  },
  {
   "cell_type": "markdown",
   "metadata": {},
   "source": [
    "__Observation-__ From the above table, we can infer that most of the clients who say 'yes' for term subscription they are last contacted in the month of __MARCH(51%)__ and __DECEMBER(49%)__."
   ]
  },
  {
   "cell_type": "markdown",
   "metadata": {},
   "source": [
    "### Conclusion of Month Column\n",
    "There is a __significant effect__ of last contacted month of the client on the term deposit subscrition and most of the clients who say 'yes' for term subscription they are last contacted in the month of MARCH and DECEMBER."
   ]
  },
  {
   "cell_type": "markdown",
   "metadata": {},
   "source": [
    "# Day of Week Column"
   ]
  },
  {
   "cell_type": "markdown",
   "metadata": {},
   "source": [
    "### Define null and Alternate Hypothesis\n",
    "__Null Hypothesis: H0:__ There is no effect of last contact day of the week to the client on the term deposit subscription.\n",
    "\n",
    "__Alternate Hypothesis: H1:__ There is an effect of last contact day of the week to the client on the term deposit subscription."
   ]
  },
  {
   "cell_type": "code",
   "execution_count": 34,
   "metadata": {},
   "outputs": [
    {
     "data": {
      "text/html": [
       "<div>\n",
       "<style scoped>\n",
       "    .dataframe tbody tr th:only-of-type {\n",
       "        vertical-align: middle;\n",
       "    }\n",
       "\n",
       "    .dataframe tbody tr th {\n",
       "        vertical-align: top;\n",
       "    }\n",
       "\n",
       "    .dataframe thead th {\n",
       "        text-align: right;\n",
       "    }\n",
       "</style>\n",
       "<table border=\"1\" class=\"dataframe\">\n",
       "  <thead>\n",
       "    <tr style=\"text-align: right;\">\n",
       "      <th>y</th>\n",
       "      <th>no</th>\n",
       "      <th>yes</th>\n",
       "    </tr>\n",
       "    <tr>\n",
       "      <th>day_of_week</th>\n",
       "      <th></th>\n",
       "      <th></th>\n",
       "    </tr>\n",
       "  </thead>\n",
       "  <tbody>\n",
       "    <tr>\n",
       "      <th>fri</th>\n",
       "      <td>6981</td>\n",
       "      <td>846</td>\n",
       "    </tr>\n",
       "    <tr>\n",
       "      <th>mon</th>\n",
       "      <td>7667</td>\n",
       "      <td>847</td>\n",
       "    </tr>\n",
       "    <tr>\n",
       "      <th>thu</th>\n",
       "      <td>7578</td>\n",
       "      <td>1045</td>\n",
       "    </tr>\n",
       "    <tr>\n",
       "      <th>tue</th>\n",
       "      <td>7137</td>\n",
       "      <td>953</td>\n",
       "    </tr>\n",
       "    <tr>\n",
       "      <th>wed</th>\n",
       "      <td>7185</td>\n",
       "      <td>949</td>\n",
       "    </tr>\n",
       "  </tbody>\n",
       "</table>\n",
       "</div>"
      ],
      "text/plain": [
       "y              no   yes\n",
       "day_of_week            \n",
       "fri          6981   846\n",
       "mon          7667   847\n",
       "thu          7578  1045\n",
       "tue          7137   953\n",
       "wed          7185   949"
      ]
     },
     "execution_count": 34,
     "metadata": {},
     "output_type": "execute_result"
    }
   ],
   "source": [
    "c9= pd.crosstab(data['day_of_week'],data['y'])\n",
    "c9"
   ]
  },
  {
   "cell_type": "code",
   "execution_count": 35,
   "metadata": {},
   "outputs": [
    {
     "data": {
      "text/plain": [
       "(26.14493907587197,\n",
       " 2.9584820052785324e-05,\n",
       " 4,\n",
       " array([[6945.25580266,  881.74419734],\n",
       "        [7554.8623871 ,  959.1376129 ],\n",
       "        [7651.58308245,  971.41691755],\n",
       "        [7178.62775566,  911.37224434],\n",
       "        [7217.67097213,  916.32902787]]))"
      ]
     },
     "execution_count": 35,
     "metadata": {},
     "output_type": "execute_result"
    }
   ],
   "source": [
    "stats.chi2_contingency(c9)"
   ]
  },
  {
   "cell_type": "markdown",
   "metadata": {},
   "source": [
    "__Observation-__ Since, the p-value(2.9584820052785324e-05) is less than 0.05, so, we can infer that our __null hypothesis is rejected__ and there is a significant effect of last contact day of the week to the client on the term deposit subscription."
   ]
  },
  {
   "cell_type": "markdown",
   "metadata": {},
   "source": [
    "### Post-Hoc Test of the day of week column"
   ]
  },
  {
   "cell_type": "code",
   "execution_count": 36,
   "metadata": {},
   "outputs": [
    {
     "data": {
      "text/html": [
       "<div>\n",
       "<style scoped>\n",
       "    .dataframe tbody tr th:only-of-type {\n",
       "        vertical-align: middle;\n",
       "    }\n",
       "\n",
       "    .dataframe tbody tr th {\n",
       "        vertical-align: top;\n",
       "    }\n",
       "\n",
       "    .dataframe thead th {\n",
       "        text-align: right;\n",
       "    }\n",
       "</style>\n",
       "<table border=\"1\" class=\"dataframe\">\n",
       "  <thead>\n",
       "    <tr style=\"text-align: right;\">\n",
       "      <th></th>\n",
       "      <th>fri</th>\n",
       "      <th>mon</th>\n",
       "      <th>thu</th>\n",
       "      <th>tue</th>\n",
       "      <th>wed</th>\n",
       "    </tr>\n",
       "  </thead>\n",
       "  <tbody>\n",
       "    <tr>\n",
       "      <th>0</th>\n",
       "      <td>0</td>\n",
       "      <td>1</td>\n",
       "      <td>0</td>\n",
       "      <td>0</td>\n",
       "      <td>0</td>\n",
       "    </tr>\n",
       "    <tr>\n",
       "      <th>1</th>\n",
       "      <td>0</td>\n",
       "      <td>1</td>\n",
       "      <td>0</td>\n",
       "      <td>0</td>\n",
       "      <td>0</td>\n",
       "    </tr>\n",
       "    <tr>\n",
       "      <th>2</th>\n",
       "      <td>0</td>\n",
       "      <td>1</td>\n",
       "      <td>0</td>\n",
       "      <td>0</td>\n",
       "      <td>0</td>\n",
       "    </tr>\n",
       "    <tr>\n",
       "      <th>3</th>\n",
       "      <td>0</td>\n",
       "      <td>1</td>\n",
       "      <td>0</td>\n",
       "      <td>0</td>\n",
       "      <td>0</td>\n",
       "    </tr>\n",
       "    <tr>\n",
       "      <th>4</th>\n",
       "      <td>0</td>\n",
       "      <td>1</td>\n",
       "      <td>0</td>\n",
       "      <td>0</td>\n",
       "      <td>0</td>\n",
       "    </tr>\n",
       "  </tbody>\n",
       "</table>\n",
       "</div>"
      ],
      "text/plain": [
       "   fri  mon  thu  tue  wed\n",
       "0    0    1    0    0    0\n",
       "1    0    1    0    0    0\n",
       "2    0    1    0    0    0\n",
       "3    0    1    0    0    0\n",
       "4    0    1    0    0    0"
      ]
     },
     "execution_count": 36,
     "metadata": {},
     "output_type": "execute_result"
    }
   ],
   "source": [
    "d9= pd.get_dummies(data['day_of_week'])\n",
    "d9.head()"
   ]
  },
  {
   "cell_type": "code",
   "execution_count": 37,
   "metadata": {},
   "outputs": [
    {
     "name": "stdout",
     "output_type": "stream",
     "text": [
      "y          no       yes\n",
      "fri                    \n",
      "0    0.886274  0.113726\n",
      "1    0.891913  0.108087 \n",
      "\n",
      "Chi2 value= 26.14493907587197\n",
      "p-value= 2.9584820052785324e-05\n",
      "Degrees of freedom= 4\n",
      "\n",
      "y          no       yes\n",
      "mon                    \n",
      "0    0.883914  0.116086\n",
      "1    0.900517  0.099483 \n",
      "\n",
      "Chi2 value= 26.14493907587197\n",
      "p-value= 2.9584820052785324e-05\n",
      "Degrees of freedom= 4\n",
      "\n",
      "y          no       yes\n",
      "thu                    \n",
      "0    0.889605  0.110395\n",
      "1    0.878812  0.121188 \n",
      "\n",
      "Chi2 value= 26.14493907587197\n",
      "p-value= 2.9584820052785324e-05\n",
      "Degrees of freedom= 4\n",
      "\n",
      "y          no       yes\n",
      "tue                    \n",
      "0    0.888604  0.111396\n",
      "1    0.882200  0.117800 \n",
      "\n",
      "Chi2 value= 26.14493907587197\n",
      "p-value= 2.9584820052785324e-05\n",
      "Degrees of freedom= 4\n",
      "\n",
      "y          no       yes\n",
      "wed                    \n",
      "0    0.888334  0.111666\n",
      "1    0.883329  0.116671 \n",
      "\n",
      "Chi2 value= 26.14493907587197\n",
      "p-value= 2.9584820052785324e-05\n",
      "Degrees of freedom= 4\n",
      "\n"
     ]
    }
   ],
   "source": [
    "for series in d9:\n",
    "    nl = \"\\n\"\n",
    "    \n",
    "    crosstab = pd.crosstab(d9[f\"{series}\"], data['y'], normalize='index')\n",
    "    print(crosstab, nl)\n",
    "    chi2, p, dof, expected = stats.chi2_contingency(c9)\n",
    "    print(f\"Chi2 value= {chi2}{nl}p-value= {p}{nl}Degrees of freedom= {dof}{nl}\")"
   ]
  },
  {
   "cell_type": "markdown",
   "metadata": {},
   "source": [
    "__Observation-__ From the above table, we can infer that the clients who say 'yes' for term subscription they are contacted in __TUESDAY(12%)__ and __THURSDAY(12%)__."
   ]
  },
  {
   "cell_type": "markdown",
   "metadata": {},
   "source": [
    "### Conclusion of Day_of_Week Column\n",
    "There is a __significant effect__ of last contact day of the week of the client on the term deposit subscrition and the clients who say 'yes' for term subscription they are contacted in TUESDAY and THURSDAY."
   ]
  },
  {
   "cell_type": "markdown",
   "metadata": {},
   "source": [
    "# POutcome Column"
   ]
  },
  {
   "cell_type": "markdown",
   "metadata": {},
   "source": [
    "### Define null and Alternate Hypothesis\n",
    "__Null Hypothesis: H0:__ There is no effect of outcome of the previous marketing campaign on the term deposit subscription.\n",
    "\n",
    "__Alternate Hypothesis: H1:__ There is an effect of outcome of the previous marketing campaign on the term deposit subscription."
   ]
  },
  {
   "cell_type": "code",
   "execution_count": 38,
   "metadata": {},
   "outputs": [
    {
     "data": {
      "text/html": [
       "<div>\n",
       "<style scoped>\n",
       "    .dataframe tbody tr th:only-of-type {\n",
       "        vertical-align: middle;\n",
       "    }\n",
       "\n",
       "    .dataframe tbody tr th {\n",
       "        vertical-align: top;\n",
       "    }\n",
       "\n",
       "    .dataframe thead th {\n",
       "        text-align: right;\n",
       "    }\n",
       "</style>\n",
       "<table border=\"1\" class=\"dataframe\">\n",
       "  <thead>\n",
       "    <tr style=\"text-align: right;\">\n",
       "      <th>y</th>\n",
       "      <th>no</th>\n",
       "      <th>yes</th>\n",
       "    </tr>\n",
       "    <tr>\n",
       "      <th>poutcome</th>\n",
       "      <th></th>\n",
       "      <th></th>\n",
       "    </tr>\n",
       "  </thead>\n",
       "  <tbody>\n",
       "    <tr>\n",
       "      <th>failure</th>\n",
       "      <td>3647</td>\n",
       "      <td>605</td>\n",
       "    </tr>\n",
       "    <tr>\n",
       "      <th>nonexistent</th>\n",
       "      <td>32422</td>\n",
       "      <td>3141</td>\n",
       "    </tr>\n",
       "    <tr>\n",
       "      <th>success</th>\n",
       "      <td>479</td>\n",
       "      <td>894</td>\n",
       "    </tr>\n",
       "  </tbody>\n",
       "</table>\n",
       "</div>"
      ],
      "text/plain": [
       "y               no   yes\n",
       "poutcome                \n",
       "failure       3647   605\n",
       "nonexistent  32422  3141\n",
       "success        479   894"
      ]
     },
     "execution_count": 38,
     "metadata": {},
     "output_type": "execute_result"
    }
   ],
   "source": [
    "c10= pd.crosstab(data['poutcome'],data['y'])\n",
    "c10"
   ]
  },
  {
   "cell_type": "code",
   "execution_count": 39,
   "metadata": {},
   "outputs": [
    {
     "data": {
      "text/plain": [
       "(4230.5237978319765, 0.0, 2, array([[ 3772.99446441,   479.00553559],\n",
       "        [31556.67971254,  4006.32028746],\n",
       "        [ 1218.32582306,   154.67417694]]))"
      ]
     },
     "execution_count": 39,
     "metadata": {},
     "output_type": "execute_result"
    }
   ],
   "source": [
    "stats.chi2_contingency(c10)"
   ]
  },
  {
   "cell_type": "markdown",
   "metadata": {},
   "source": [
    "__Observation-__ Since, the p-value(0.0) is less than 0.05, so, we can infer that our __null hypothesis is rejected__ and there is a significant effect of outcome of the previous marketing campaign on the term deposit subscription."
   ]
  },
  {
   "cell_type": "markdown",
   "metadata": {},
   "source": [
    "### Post-Hoc Test of the poutcome column"
   ]
  },
  {
   "cell_type": "code",
   "execution_count": 40,
   "metadata": {},
   "outputs": [
    {
     "data": {
      "text/html": [
       "<div>\n",
       "<style scoped>\n",
       "    .dataframe tbody tr th:only-of-type {\n",
       "        vertical-align: middle;\n",
       "    }\n",
       "\n",
       "    .dataframe tbody tr th {\n",
       "        vertical-align: top;\n",
       "    }\n",
       "\n",
       "    .dataframe thead th {\n",
       "        text-align: right;\n",
       "    }\n",
       "</style>\n",
       "<table border=\"1\" class=\"dataframe\">\n",
       "  <thead>\n",
       "    <tr style=\"text-align: right;\">\n",
       "      <th></th>\n",
       "      <th>failure</th>\n",
       "      <th>nonexistent</th>\n",
       "      <th>success</th>\n",
       "    </tr>\n",
       "  </thead>\n",
       "  <tbody>\n",
       "    <tr>\n",
       "      <th>0</th>\n",
       "      <td>0</td>\n",
       "      <td>1</td>\n",
       "      <td>0</td>\n",
       "    </tr>\n",
       "    <tr>\n",
       "      <th>1</th>\n",
       "      <td>0</td>\n",
       "      <td>1</td>\n",
       "      <td>0</td>\n",
       "    </tr>\n",
       "    <tr>\n",
       "      <th>2</th>\n",
       "      <td>0</td>\n",
       "      <td>1</td>\n",
       "      <td>0</td>\n",
       "    </tr>\n",
       "    <tr>\n",
       "      <th>3</th>\n",
       "      <td>0</td>\n",
       "      <td>1</td>\n",
       "      <td>0</td>\n",
       "    </tr>\n",
       "    <tr>\n",
       "      <th>4</th>\n",
       "      <td>0</td>\n",
       "      <td>1</td>\n",
       "      <td>0</td>\n",
       "    </tr>\n",
       "  </tbody>\n",
       "</table>\n",
       "</div>"
      ],
      "text/plain": [
       "   failure  nonexistent  success\n",
       "0        0            1        0\n",
       "1        0            1        0\n",
       "2        0            1        0\n",
       "3        0            1        0\n",
       "4        0            1        0"
      ]
     },
     "execution_count": 40,
     "metadata": {},
     "output_type": "execute_result"
    }
   ],
   "source": [
    "d10=pd.get_dummies(data['poutcome'])\n",
    "d10.head()"
   ]
  },
  {
   "cell_type": "code",
   "execution_count": 41,
   "metadata": {},
   "outputs": [
    {
     "name": "stdout",
     "output_type": "stream",
     "text": [
      "y              no       yes\n",
      "failure                    \n",
      "0        0.890757  0.109243\n",
      "1        0.857714  0.142286 \n",
      "\n",
      "Chi2 value= 4230.5237978319765\n",
      "p-value= 0.0\n",
      "Degrees of freedom= 2\n",
      "\n",
      "y                  no       yes\n",
      "nonexistent                    \n",
      "0            0.733511  0.266489\n",
      "1            0.911678  0.088322 \n",
      "\n",
      "Chi2 value= 4230.5237978319765\n",
      "p-value= 0.0\n",
      "Degrees of freedom= 2\n",
      "\n",
      "y              no       yes\n",
      "success                    \n",
      "0        0.905915  0.094085\n",
      "1        0.348871  0.651129 \n",
      "\n",
      "Chi2 value= 4230.5237978319765\n",
      "p-value= 0.0\n",
      "Degrees of freedom= 2\n",
      "\n"
     ]
    }
   ],
   "source": [
    "for series in d10:\n",
    "    nl = \"\\n\"\n",
    "    \n",
    "    crosstab = pd.crosstab(d10[f\"{series}\"], data['y'], normalize='index')\n",
    "    print(crosstab, nl)\n",
    "    chi2, p, dof, expected = stats.chi2_contingency(c10)\n",
    "    print(f\"Chi2 value= {chi2}{nl}p-value= {p}{nl}Degrees of freedom= {dof}{nl}\")"
   ]
  },
  {
   "cell_type": "markdown",
   "metadata": {},
   "source": [
    "__Observation-__ From the above table, we can infer that the clients who say 'yes' for term subscription their last campaign outcome was __SUCCESS(65%)__."
   ]
  },
  {
   "cell_type": "markdown",
   "metadata": {},
   "source": [
    "### Conclusion of POutcome Column\n",
    "There is a __significant effect__ of outcome of the previous marketing campaign on the term deposit subscrition and the clients who say 'yes' for term subscription their last campaign outcome was SUCCESS."
   ]
  },
  {
   "cell_type": "markdown",
   "metadata": {},
   "source": [
    "# Summary of Statistical Tests of Categorical Features(after dealing with 'unknown' values)-\n",
    "## Except 'Loan' and 'Default' features, other categorical features have a significant impact on the target variable feature."
   ]
  },
  {
   "cell_type": "code",
   "execution_count": null,
   "metadata": {},
   "outputs": [],
   "source": []
  },
  {
   "cell_type": "code",
   "execution_count": null,
   "metadata": {},
   "outputs": [],
   "source": []
  },
  {
   "cell_type": "markdown",
   "metadata": {},
   "source": [
    "# Statistical Test- Numerical Features\n",
    "# Age Column"
   ]
  },
  {
   "cell_type": "code",
   "execution_count": 42,
   "metadata": {},
   "outputs": [],
   "source": [
    "import pandas as pd\n",
    "import numpy as np\n",
    "import statsmodels.api as sms\n",
    "import statsmodels.formula.api as statsmodel\n",
    "from statsmodels.formula.api import ols\n",
    "import scipy.stats as stats"
   ]
  },
  {
   "cell_type": "markdown",
   "metadata": {},
   "source": [
    "### Define null and Alternate Hypothesis\n",
    "__Null Hypothesis: H0:__ There is no effect of age of the clients on the term deposit subscription.\n",
    "\n",
    "__Alternate Hypothesis: H1:__ There is an effect of age of the clients on the term deposit subscription."
   ]
  },
  {
   "cell_type": "code",
   "execution_count": 43,
   "metadata": {},
   "outputs": [],
   "source": [
    "model1 = ols(\"age ~ y\",data = data).fit()"
   ]
  },
  {
   "cell_type": "code",
   "execution_count": 44,
   "metadata": {},
   "outputs": [
    {
     "data": {
      "text/html": [
       "<div>\n",
       "<style scoped>\n",
       "    .dataframe tbody tr th:only-of-type {\n",
       "        vertical-align: middle;\n",
       "    }\n",
       "\n",
       "    .dataframe tbody tr th {\n",
       "        vertical-align: top;\n",
       "    }\n",
       "\n",
       "    .dataframe thead th {\n",
       "        text-align: right;\n",
       "    }\n",
       "</style>\n",
       "<table border=\"1\" class=\"dataframe\">\n",
       "  <thead>\n",
       "    <tr style=\"text-align: right;\">\n",
       "      <th></th>\n",
       "      <th>df</th>\n",
       "      <th>sum_sq</th>\n",
       "      <th>mean_sq</th>\n",
       "      <th>F</th>\n",
       "      <th>PR(&gt;F)</th>\n",
       "    </tr>\n",
       "  </thead>\n",
       "  <tbody>\n",
       "    <tr>\n",
       "      <th>y</th>\n",
       "      <td>1.0</td>\n",
       "      <td>4.133451e+03</td>\n",
       "      <td>4133.450624</td>\n",
       "      <td>38.094659</td>\n",
       "      <td>6.802136e-10</td>\n",
       "    </tr>\n",
       "    <tr>\n",
       "      <th>Residual</th>\n",
       "      <td>41186.0</td>\n",
       "      <td>4.468876e+06</td>\n",
       "      <td>108.504727</td>\n",
       "      <td>NaN</td>\n",
       "      <td>NaN</td>\n",
       "    </tr>\n",
       "  </tbody>\n",
       "</table>\n",
       "</div>"
      ],
      "text/plain": [
       "               df        sum_sq      mean_sq          F        PR(>F)\n",
       "y             1.0  4.133451e+03  4133.450624  38.094659  6.802136e-10\n",
       "Residual  41186.0  4.468876e+06   108.504727        NaN           NaN"
      ]
     },
     "execution_count": 44,
     "metadata": {},
     "output_type": "execute_result"
    }
   ],
   "source": [
    "sms.stats.anova_lm(model1)"
   ]
  },
  {
   "cell_type": "markdown",
   "metadata": {},
   "source": [
    "__Observation-__ Since, the p-value(6.802136e-10) is less than 0.05, so, we can infer that our __null hypothesis is rejected__ and there is a significant effect of age of the clients on the term deposit subscription.."
   ]
  },
  {
   "cell_type": "markdown",
   "metadata": {},
   "source": [
    "### Post Hoc Test of Age Column"
   ]
  },
  {
   "cell_type": "code",
   "execution_count": 45,
   "metadata": {},
   "outputs": [],
   "source": [
    "from statsmodels.stats.multicomp import pairwise_tukeyhsd"
   ]
  },
  {
   "cell_type": "code",
   "execution_count": 46,
   "metadata": {},
   "outputs": [
    {
     "name": "stdout",
     "output_type": "stream",
     "text": [
      "Multiple Comparison of Means - Tukey HSD,FWER=0.05\n",
      "===========================================\n",
      "group1 group2 meandiff lower  upper  reject\n",
      "-------------------------------------------\n",
      "  no    yes    1.002   0.6838 1.3201  True \n",
      "-------------------------------------------\n"
     ]
    }
   ],
   "source": [
    "print(pairwise_tukeyhsd(data['age'],data['y']))"
   ]
  },
  {
   "cell_type": "markdown",
   "metadata": {},
   "source": [
    "__Observation-__ From the above table, we can infer that the clients who say 'yes' for the term deposit subscription have more mean age than compared to the clients who say'no' for the term deposit subscription."
   ]
  },
  {
   "cell_type": "markdown",
   "metadata": {},
   "source": [
    "### Conclusion of Age Column"
   ]
  },
  {
   "cell_type": "markdown",
   "metadata": {},
   "source": [
    "There is a __significant effect__ of mean age of the clients on the term deposit subscription and the clients who say 'yes' for the term deposit subscription have more mean age than compared to the clients who say 'no' for the term deposit subscription."
   ]
  },
  {
   "cell_type": "markdown",
   "metadata": {},
   "source": [
    "# Duration Column"
   ]
  },
  {
   "cell_type": "markdown",
   "metadata": {},
   "source": [
    "### Define null and Alternate Hypothesis\n",
    "__Null Hypothesis: H0:__ There is no effect of last contact duration of the clients on the term deposit subscription.\n",
    "\n",
    "__Alternate Hypothesis: H1:__ There is an effect of last contact duration of the clients on the term deposit subscription."
   ]
  },
  {
   "cell_type": "code",
   "execution_count": 47,
   "metadata": {},
   "outputs": [],
   "source": [
    "model2 = ols(\"duration ~ y\",data = data).fit()"
   ]
  },
  {
   "cell_type": "code",
   "execution_count": 48,
   "metadata": {},
   "outputs": [
    {
     "data": {
      "text/html": [
       "<div>\n",
       "<style scoped>\n",
       "    .dataframe tbody tr th:only-of-type {\n",
       "        vertical-align: middle;\n",
       "    }\n",
       "\n",
       "    .dataframe tbody tr th {\n",
       "        vertical-align: top;\n",
       "    }\n",
       "\n",
       "    .dataframe thead th {\n",
       "        text-align: right;\n",
       "    }\n",
       "</style>\n",
       "<table border=\"1\" class=\"dataframe\">\n",
       "  <thead>\n",
       "    <tr style=\"text-align: right;\">\n",
       "      <th></th>\n",
       "      <th>df</th>\n",
       "      <th>sum_sq</th>\n",
       "      <th>mean_sq</th>\n",
       "      <th>F</th>\n",
       "      <th>PR(&gt;F)</th>\n",
       "    </tr>\n",
       "  </thead>\n",
       "  <tbody>\n",
       "    <tr>\n",
       "      <th>y</th>\n",
       "      <td>1.0</td>\n",
       "      <td>4.547710e+08</td>\n",
       "      <td>4.547710e+08</td>\n",
       "      <td>8094.101634</td>\n",
       "      <td>0.0</td>\n",
       "    </tr>\n",
       "    <tr>\n",
       "      <th>Residual</th>\n",
       "      <td>41186.0</td>\n",
       "      <td>2.314055e+09</td>\n",
       "      <td>5.618548e+04</td>\n",
       "      <td>NaN</td>\n",
       "      <td>NaN</td>\n",
       "    </tr>\n",
       "  </tbody>\n",
       "</table>\n",
       "</div>"
      ],
      "text/plain": [
       "               df        sum_sq       mean_sq            F  PR(>F)\n",
       "y             1.0  4.547710e+08  4.547710e+08  8094.101634     0.0\n",
       "Residual  41186.0  2.314055e+09  5.618548e+04          NaN     NaN"
      ]
     },
     "execution_count": 48,
     "metadata": {},
     "output_type": "execute_result"
    }
   ],
   "source": [
    "sms.stats.anova_lm(model2)"
   ]
  },
  {
   "cell_type": "markdown",
   "metadata": {},
   "source": [
    "__Observation-__ Since, the p-value(0.0) is less than 0.05, so, we can infer that our __null hypothesis is rejected__ and there is a significant effect of last contact duration of the clients on the term deposit subscription.."
   ]
  },
  {
   "cell_type": "markdown",
   "metadata": {},
   "source": [
    "### Post Hoc Test of Duration Column"
   ]
  },
  {
   "cell_type": "code",
   "execution_count": 49,
   "metadata": {},
   "outputs": [
    {
     "name": "stdout",
     "output_type": "stream",
     "text": [
      "Multiple Comparison of Means - Tukey HSD,FWER=0.05\n",
      "===============================================\n",
      "group1 group2 meandiff  lower    upper   reject\n",
      "-----------------------------------------------\n",
      "  no    yes   332.3464 325.1059 339.5868  True \n",
      "-----------------------------------------------\n"
     ]
    }
   ],
   "source": [
    "print(pairwise_tukeyhsd(data['duration'],data['y']))"
   ]
  },
  {
   "cell_type": "markdown",
   "metadata": {},
   "source": [
    "__Observation-__ From the above table, we can infer that the clients who say 'yes' for the term deposit subscription have more mean of last call duration of clients than compared to the clients who say 'no' for the term deposit subscription."
   ]
  },
  {
   "cell_type": "markdown",
   "metadata": {},
   "source": [
    "### Conclusion of Duration Column"
   ]
  },
  {
   "cell_type": "markdown",
   "metadata": {},
   "source": [
    "There is a __significant effect__ of last call duration of the clients on the term deposit subscription and the clients who say 'yes' for the term deposit subscription have more mean of last call duration than compared to the clients who say'no' for the term deposit subscription."
   ]
  },
  {
   "cell_type": "markdown",
   "metadata": {},
   "source": [
    "# Campaign Column"
   ]
  },
  {
   "cell_type": "markdown",
   "metadata": {},
   "source": [
    "### Define null and Alternate Hypothesis\n",
    "__Null Hypothesis: H0:__ There is no effect of number of contacts performed to a particular client during the campaign  on the term deposit subscription.\n",
    "\n",
    "__Alternate Hypothesis: H1:__ There is an effect of number of contacts performed to a particular client during the campaign on the term deposit subscription."
   ]
  },
  {
   "cell_type": "code",
   "execution_count": 50,
   "metadata": {},
   "outputs": [],
   "source": [
    "model3 = ols(\"campaign ~ y\",data = data).fit()"
   ]
  },
  {
   "cell_type": "code",
   "execution_count": 51,
   "metadata": {},
   "outputs": [
    {
     "data": {
      "text/html": [
       "<div>\n",
       "<style scoped>\n",
       "    .dataframe tbody tr th:only-of-type {\n",
       "        vertical-align: middle;\n",
       "    }\n",
       "\n",
       "    .dataframe tbody tr th {\n",
       "        vertical-align: top;\n",
       "    }\n",
       "\n",
       "    .dataframe thead th {\n",
       "        text-align: right;\n",
       "    }\n",
       "</style>\n",
       "<table border=\"1\" class=\"dataframe\">\n",
       "  <thead>\n",
       "    <tr style=\"text-align: right;\">\n",
       "      <th></th>\n",
       "      <th>df</th>\n",
       "      <th>sum_sq</th>\n",
       "      <th>mean_sq</th>\n",
       "      <th>F</th>\n",
       "      <th>PR(&gt;F)</th>\n",
       "    </tr>\n",
       "  </thead>\n",
       "  <tbody>\n",
       "    <tr>\n",
       "      <th>y</th>\n",
       "      <td>1.0</td>\n",
       "      <td>1391.562959</td>\n",
       "      <td>1391.562959</td>\n",
       "      <td>182.156673</td>\n",
       "      <td>2.007780e-41</td>\n",
       "    </tr>\n",
       "    <tr>\n",
       "      <th>Residual</th>\n",
       "      <td>41186.0</td>\n",
       "      <td>314635.259513</td>\n",
       "      <td>7.639374</td>\n",
       "      <td>NaN</td>\n",
       "      <td>NaN</td>\n",
       "    </tr>\n",
       "  </tbody>\n",
       "</table>\n",
       "</div>"
      ],
      "text/plain": [
       "               df         sum_sq      mean_sq           F        PR(>F)\n",
       "y             1.0    1391.562959  1391.562959  182.156673  2.007780e-41\n",
       "Residual  41186.0  314635.259513     7.639374         NaN           NaN"
      ]
     },
     "execution_count": 51,
     "metadata": {},
     "output_type": "execute_result"
    }
   ],
   "source": [
    "sms.stats.anova_lm(model3)"
   ]
  },
  {
   "cell_type": "markdown",
   "metadata": {},
   "source": [
    "__Observation-__ Since, the p-value(2.007780e-41) is less than 0.05, so, we can infer that our __null hypothesis is rejected__ and there is a significant effect of number of contacts performed to a particular client during the campaign on the term deposit subscription."
   ]
  },
  {
   "cell_type": "markdown",
   "metadata": {},
   "source": [
    "### Post Hoc Test of Campaign Column"
   ]
  },
  {
   "cell_type": "code",
   "execution_count": 52,
   "metadata": {},
   "outputs": [
    {
     "name": "stdout",
     "output_type": "stream",
     "text": [
      "Multiple Comparison of Means - Tukey HSD,FWER=0.05\n",
      "=============================================\n",
      "group1 group2 meandiff  lower   upper  reject\n",
      "---------------------------------------------\n",
      "  no    yes   -0.5814  -0.6658 -0.4969  True \n",
      "---------------------------------------------\n"
     ]
    }
   ],
   "source": [
    "print(pairwise_tukeyhsd(data['campaign'],data['y']))"
   ]
  },
  {
   "cell_type": "markdown",
   "metadata": {},
   "source": [
    "__Observation-__ From the above table, we can infer that the clients who say 'yes' for the term deposit subscription have slightly less mean number of contacts performed to a particular client than compared to the clients who say 'no' for the term deposit subscription."
   ]
  },
  {
   "cell_type": "markdown",
   "metadata": {},
   "source": [
    "### Conclusion of Campaign Column"
   ]
  },
  {
   "cell_type": "markdown",
   "metadata": {},
   "source": [
    "There is a __significant effect__ of number of contacts performed to a particular client during the campaign on the term deposit subscription and the clients who say 'yes' for the term deposit subscription have slightly less mean number of contacts performed than compared to the clients who say'no' for the term deposit subscription."
   ]
  },
  {
   "cell_type": "markdown",
   "metadata": {},
   "source": [
    "# PDays Column "
   ]
  },
  {
   "cell_type": "markdown",
   "metadata": {},
   "source": [
    "### Define null and Alternate Hypothesis\n",
    "__Null Hypothesis: H0:__ There is no effect of number of days that passed by after the client was last contacted from a previous campaign on the term deposit subscription.\n",
    "\n",
    "__Alternate Hypothesis: H1:__ There is an effect of number of days that passed by after the client was last contacted from a previous campaign on the term deposit subscription."
   ]
  },
  {
   "cell_type": "code",
   "execution_count": 53,
   "metadata": {},
   "outputs": [],
   "source": [
    "model3 = ols(\"pdays ~ y\",data = data).fit()"
   ]
  },
  {
   "cell_type": "code",
   "execution_count": 54,
   "metadata": {},
   "outputs": [
    {
     "data": {
      "text/html": [
       "<div>\n",
       "<style scoped>\n",
       "    .dataframe tbody tr th:only-of-type {\n",
       "        vertical-align: middle;\n",
       "    }\n",
       "\n",
       "    .dataframe tbody tr th {\n",
       "        vertical-align: top;\n",
       "    }\n",
       "\n",
       "    .dataframe thead th {\n",
       "        text-align: right;\n",
       "    }\n",
       "</style>\n",
       "<table border=\"1\" class=\"dataframe\">\n",
       "  <thead>\n",
       "    <tr style=\"text-align: right;\">\n",
       "      <th></th>\n",
       "      <th>df</th>\n",
       "      <th>sum_sq</th>\n",
       "      <th>mean_sq</th>\n",
       "      <th>F</th>\n",
       "      <th>PR(&gt;F)</th>\n",
       "    </tr>\n",
       "  </thead>\n",
       "  <tbody>\n",
       "    <tr>\n",
       "      <th>y</th>\n",
       "      <td>1.0</td>\n",
       "      <td>154.018928</td>\n",
       "      <td>154.018928</td>\n",
       "      <td>4859.909473</td>\n",
       "      <td>0.0</td>\n",
       "    </tr>\n",
       "    <tr>\n",
       "      <th>Residual</th>\n",
       "      <td>41186.0</td>\n",
       "      <td>1305.255497</td>\n",
       "      <td>0.031692</td>\n",
       "      <td>NaN</td>\n",
       "      <td>NaN</td>\n",
       "    </tr>\n",
       "  </tbody>\n",
       "</table>\n",
       "</div>"
      ],
      "text/plain": [
       "               df       sum_sq     mean_sq            F  PR(>F)\n",
       "y             1.0   154.018928  154.018928  4859.909473     0.0\n",
       "Residual  41186.0  1305.255497    0.031692          NaN     NaN"
      ]
     },
     "execution_count": 54,
     "metadata": {},
     "output_type": "execute_result"
    }
   ],
   "source": [
    "sms.stats.anova_lm(model3)"
   ]
  },
  {
   "cell_type": "markdown",
   "metadata": {},
   "source": [
    "__Observation-__ Since, the p-value(0.0) is less than 0.05, so, we can infer that our __null hypothesis is rejected__ and there is a significant effect of number of days that passed by after the client was last contacted from a previous campaign on the term deposit subscription."
   ]
  },
  {
   "cell_type": "markdown",
   "metadata": {},
   "source": [
    "### Post Hoc Test of PDays Column"
   ]
  },
  {
   "cell_type": "code",
   "execution_count": 55,
   "metadata": {},
   "outputs": [
    {
     "name": "stdout",
     "output_type": "stream",
     "text": [
      "Multiple Comparison of Means - Tukey HSD,FWER=0.05\n",
      "==========================================\n",
      "group1 group2 meandiff lower upper  reject\n",
      "------------------------------------------\n",
      "  no    yes    0.1934  0.188 0.1988  True \n",
      "------------------------------------------\n"
     ]
    }
   ],
   "source": [
    "print(pairwise_tukeyhsd(data['pdays'],data['y']))"
   ]
  },
  {
   "cell_type": "markdown",
   "metadata": {},
   "source": [
    "__Observation-__ From the above table, we can infer that the clients who say 'yes' for the term deposit subscription have more mean number of days that passed by after the client was last contacted from a previous campaign than compared to the clients who say 'no' for the term deposit subscription."
   ]
  },
  {
   "cell_type": "markdown",
   "metadata": {},
   "source": [
    "### Conclusion of PDays Column"
   ]
  },
  {
   "cell_type": "markdown",
   "metadata": {},
   "source": [
    "There is a __significant effect__ of number of days that passed by after the client was last contacted from a previous campaign on the term deposit subscription and the clients who say 'yes' for the term deposit subscription have more mean number of days that passed by after the client was last contacted from a previous campaign than compared to the clients who say'no' for the term deposit subscription."
   ]
  },
  {
   "cell_type": "markdown",
   "metadata": {},
   "source": [
    "# Previous Column"
   ]
  },
  {
   "cell_type": "markdown",
   "metadata": {},
   "source": [
    "### Define null and Alternate Hypothesis\n",
    "__Null Hypothesis: H0:__ There is no effect of number of contacts performed before this campaign for a particular client on the term deposit subscription.\n",
    "\n",
    "__Alternate Hypothesis: H1:__ There is an effect of number of contacts performed before this campaign for a particular client  on the term deposit subscription."
   ]
  },
  {
   "cell_type": "code",
   "execution_count": 56,
   "metadata": {},
   "outputs": [],
   "source": [
    "model4 = ols(\"previous ~ y\",data = data).fit()"
   ]
  },
  {
   "cell_type": "code",
   "execution_count": 57,
   "metadata": {},
   "outputs": [
    {
     "data": {
      "text/html": [
       "<div>\n",
       "<style scoped>\n",
       "    .dataframe tbody tr th:only-of-type {\n",
       "        vertical-align: middle;\n",
       "    }\n",
       "\n",
       "    .dataframe tbody tr th {\n",
       "        vertical-align: top;\n",
       "    }\n",
       "\n",
       "    .dataframe thead th {\n",
       "        text-align: right;\n",
       "    }\n",
       "</style>\n",
       "<table border=\"1\" class=\"dataframe\">\n",
       "  <thead>\n",
       "    <tr style=\"text-align: right;\">\n",
       "      <th></th>\n",
       "      <th>df</th>\n",
       "      <th>sum_sq</th>\n",
       "      <th>mean_sq</th>\n",
       "      <th>F</th>\n",
       "      <th>PR(&gt;F)</th>\n",
       "    </tr>\n",
       "  </thead>\n",
       "  <tbody>\n",
       "    <tr>\n",
       "      <th>y</th>\n",
       "      <td>1.0</td>\n",
       "      <td>534.485490</td>\n",
       "      <td>534.485490</td>\n",
       "      <td>2304.257088</td>\n",
       "      <td>0.0</td>\n",
       "    </tr>\n",
       "    <tr>\n",
       "      <th>Residual</th>\n",
       "      <td>41186.0</td>\n",
       "      <td>9553.326106</td>\n",
       "      <td>0.231956</td>\n",
       "      <td>NaN</td>\n",
       "      <td>NaN</td>\n",
       "    </tr>\n",
       "  </tbody>\n",
       "</table>\n",
       "</div>"
      ],
      "text/plain": [
       "               df       sum_sq     mean_sq            F  PR(>F)\n",
       "y             1.0   534.485490  534.485490  2304.257088     0.0\n",
       "Residual  41186.0  9553.326106    0.231956          NaN     NaN"
      ]
     },
     "execution_count": 57,
     "metadata": {},
     "output_type": "execute_result"
    }
   ],
   "source": [
    "sms.stats.anova_lm(model4)"
   ]
  },
  {
   "cell_type": "markdown",
   "metadata": {},
   "source": [
    "__Observation-__ Since, the p-value(0.0) is less than 0.05, so, we can infer that our __null hypothesis is rejected__ and there is a significant effect of number of contacts performed before this campaign for a particular client on the term deposit subscription."
   ]
  },
  {
   "cell_type": "markdown",
   "metadata": {},
   "source": [
    "### Post Hoc Test of Previous Column"
   ]
  },
  {
   "cell_type": "code",
   "execution_count": 58,
   "metadata": {},
   "outputs": [
    {
     "name": "stdout",
     "output_type": "stream",
     "text": [
      "Multiple Comparison of Means - Tukey HSD,FWER=0.05\n",
      "==========================================\n",
      "group1 group2 meandiff lower  upper reject\n",
      "------------------------------------------\n",
      "  no    yes    0.3603  0.3456 0.375  True \n",
      "------------------------------------------\n"
     ]
    }
   ],
   "source": [
    "print(pairwise_tukeyhsd(data['previous'],data['y']))"
   ]
  },
  {
   "cell_type": "markdown",
   "metadata": {},
   "source": [
    "__Observation-__ From the above table, we can infer that the clients who say 'yes' for the term deposit subscription have slightly more mean number of contacts performed before this campaign for a particular client than compared to the clients who say 'no' for the term deposit subscription."
   ]
  },
  {
   "cell_type": "markdown",
   "metadata": {},
   "source": [
    "### Conclusion of Previous Column"
   ]
  },
  {
   "cell_type": "markdown",
   "metadata": {},
   "source": [
    "There is a __significant effect__ of number of days that passed by after the client was last contacted from a previous campaign on the term deposit subscription and the clients who say 'yes' for the term deposit subscription have slightly more number of contacts performed before this campaign for a particular client than compared to the clients who say'no' for the term deposit subscription."
   ]
  },
  {
   "cell_type": "markdown",
   "metadata": {},
   "source": [
    "# 'emp.var.rate' Column"
   ]
  },
  {
   "cell_type": "markdown",
   "metadata": {},
   "source": [
    "### Define null and Alternate Hypothesis\n",
    "__Null Hypothesis: H0:__ There is no effect of employment variation rate on the term deposit subscription.\n",
    "\n",
    "__Alternate Hypothesis: H1:__ There is an effect of employment variation rate on the term deposit subscription."
   ]
  },
  {
   "cell_type": "code",
   "execution_count": 59,
   "metadata": {},
   "outputs": [],
   "source": [
    "data2=data.rename(index=str,columns={'emp.var.rate':'emp_var_rate', 'cons.price.idx':'cons_price_idx',\n",
    "       'cons.conf.idx':'cons_conf_idx', 'nr.employed':'nr_employed'})"
   ]
  },
  {
   "cell_type": "code",
   "execution_count": 60,
   "metadata": {},
   "outputs": [],
   "source": [
    "model5 = ols(\"emp_var_rate ~ y\",data = data2).fit()"
   ]
  },
  {
   "cell_type": "code",
   "execution_count": 61,
   "metadata": {},
   "outputs": [
    {
     "data": {
      "text/html": [
       "<div>\n",
       "<style scoped>\n",
       "    .dataframe tbody tr th:only-of-type {\n",
       "        vertical-align: middle;\n",
       "    }\n",
       "\n",
       "    .dataframe tbody tr th {\n",
       "        vertical-align: top;\n",
       "    }\n",
       "\n",
       "    .dataframe thead th {\n",
       "        text-align: right;\n",
       "    }\n",
       "</style>\n",
       "<table border=\"1\" class=\"dataframe\">\n",
       "  <thead>\n",
       "    <tr style=\"text-align: right;\">\n",
       "      <th></th>\n",
       "      <th>df</th>\n",
       "      <th>sum_sq</th>\n",
       "      <th>mean_sq</th>\n",
       "      <th>F</th>\n",
       "      <th>PR(&gt;F)</th>\n",
       "    </tr>\n",
       "  </thead>\n",
       "  <tbody>\n",
       "    <tr>\n",
       "      <th>y</th>\n",
       "      <td>1.0</td>\n",
       "      <td>9046.842163</td>\n",
       "      <td>9046.842163</td>\n",
       "      <td>4023.829925</td>\n",
       "      <td>0.0</td>\n",
       "    </tr>\n",
       "    <tr>\n",
       "      <th>Residual</th>\n",
       "      <td>41186.0</td>\n",
       "      <td>92599.152609</td>\n",
       "      <td>2.248316</td>\n",
       "      <td>NaN</td>\n",
       "      <td>NaN</td>\n",
       "    </tr>\n",
       "  </tbody>\n",
       "</table>\n",
       "</div>"
      ],
      "text/plain": [
       "               df        sum_sq      mean_sq            F  PR(>F)\n",
       "y             1.0   9046.842163  9046.842163  4023.829925     0.0\n",
       "Residual  41186.0  92599.152609     2.248316          NaN     NaN"
      ]
     },
     "execution_count": 61,
     "metadata": {},
     "output_type": "execute_result"
    }
   ],
   "source": [
    "sms.stats.anova_lm(model5)"
   ]
  },
  {
   "cell_type": "markdown",
   "metadata": {},
   "source": [
    "__Observation-__ Since, the p-value(0.0) is less than 0.05, so, we can infer that our __null hypothesis is rejected__ and there is a significant effect of employment variation rate on the term deposit subscription."
   ]
  },
  {
   "cell_type": "markdown",
   "metadata": {},
   "source": [
    "### Post Hoc Test of emp.var.rate Column"
   ]
  },
  {
   "cell_type": "code",
   "execution_count": 62,
   "metadata": {},
   "outputs": [
    {
     "name": "stdout",
     "output_type": "stream",
     "text": [
      "Multiple Comparison of Means - Tukey HSD,FWER=0.05\n",
      "=============================================\n",
      "group1 group2 meandiff  lower   upper  reject\n",
      "---------------------------------------------\n",
      "  no    yes   -1.4823  -1.5281 -1.4365  True \n",
      "---------------------------------------------\n"
     ]
    }
   ],
   "source": [
    "print(pairwise_tukeyhsd(data2['emp_var_rate'],data2['y']))"
   ]
  },
  {
   "cell_type": "markdown",
   "metadata": {},
   "source": [
    "__Observation-__ From the above table, we can infer that the clients who say 'yes' for the term deposit subscription have slightly less mean employment variation rate than compared to the clients who say 'no' for the term deposit subscription."
   ]
  },
  {
   "cell_type": "markdown",
   "metadata": {},
   "source": [
    "### Conclusion of emp.var.rate Column"
   ]
  },
  {
   "cell_type": "markdown",
   "metadata": {},
   "source": [
    "There is a __significant effect__ of employment variation rate on the term deposit subscription and the clients who say 'yes' for the term deposit subscription have slightly more employment variation rate than compared to the clients who say'no' for the term deposit subscription."
   ]
  },
  {
   "cell_type": "markdown",
   "metadata": {},
   "source": [
    "# 'cons.price.idx' Column"
   ]
  },
  {
   "cell_type": "markdown",
   "metadata": {},
   "source": [
    "### Define null and Alternate Hypothesis\n",
    "__Null Hypothesis: H0:__ There is no effect of consumer price index on the term deposit subscription.\n",
    "\n",
    "__Alternate Hypothesis: H1:__ There is an effect of consumer price index on the term deposit subscription."
   ]
  },
  {
   "cell_type": "code",
   "execution_count": 63,
   "metadata": {},
   "outputs": [],
   "source": [
    "model6 = ols(\"cons_price_idx ~ y\",data = data2).fit()"
   ]
  },
  {
   "cell_type": "code",
   "execution_count": 64,
   "metadata": {},
   "outputs": [
    {
     "data": {
      "text/html": [
       "<div>\n",
       "<style scoped>\n",
       "    .dataframe tbody tr th:only-of-type {\n",
       "        vertical-align: middle;\n",
       "    }\n",
       "\n",
       "    .dataframe tbody tr th {\n",
       "        vertical-align: top;\n",
       "    }\n",
       "\n",
       "    .dataframe thead th {\n",
       "        text-align: right;\n",
       "    }\n",
       "</style>\n",
       "<table border=\"1\" class=\"dataframe\">\n",
       "  <thead>\n",
       "    <tr style=\"text-align: right;\">\n",
       "      <th></th>\n",
       "      <th>df</th>\n",
       "      <th>sum_sq</th>\n",
       "      <th>mean_sq</th>\n",
       "      <th>F</th>\n",
       "      <th>PR(&gt;F)</th>\n",
       "    </tr>\n",
       "  </thead>\n",
       "  <tbody>\n",
       "    <tr>\n",
       "      <th>y</th>\n",
       "      <td>1.0</td>\n",
       "      <td>256.037173</td>\n",
       "      <td>256.037173</td>\n",
       "      <td>778.589786</td>\n",
       "      <td>9.318965e-170</td>\n",
       "    </tr>\n",
       "    <tr>\n",
       "      <th>Residual</th>\n",
       "      <td>41186.0</td>\n",
       "      <td>13543.906156</td>\n",
       "      <td>0.328847</td>\n",
       "      <td>NaN</td>\n",
       "      <td>NaN</td>\n",
       "    </tr>\n",
       "  </tbody>\n",
       "</table>\n",
       "</div>"
      ],
      "text/plain": [
       "               df        sum_sq     mean_sq           F         PR(>F)\n",
       "y             1.0    256.037173  256.037173  778.589786  9.318965e-170\n",
       "Residual  41186.0  13543.906156    0.328847         NaN            NaN"
      ]
     },
     "execution_count": 64,
     "metadata": {},
     "output_type": "execute_result"
    }
   ],
   "source": [
    "sms.stats.anova_lm(model6)"
   ]
  },
  {
   "cell_type": "markdown",
   "metadata": {},
   "source": [
    "__Observation-__ Since, the p-value(9.318965e-170) is less than 0.05, so, we can infer that our __null hypothesis is rejected__ and there is a significant effect of consumer price index on the term deposit subscription."
   ]
  },
  {
   "cell_type": "markdown",
   "metadata": {},
   "source": [
    "### Post Hoc Test of cons.price.idx Column"
   ]
  },
  {
   "cell_type": "code",
   "execution_count": 65,
   "metadata": {},
   "outputs": [
    {
     "name": "stdout",
     "output_type": "stream",
     "text": [
      "Multiple Comparison of Means - Tukey HSD,FWER=0.05\n",
      "=============================================\n",
      "group1 group2 meandiff  lower   upper  reject\n",
      "---------------------------------------------\n",
      "  no    yes   -0.2494  -0.2669 -0.2319  True \n",
      "---------------------------------------------\n"
     ]
    }
   ],
   "source": [
    "print(pairwise_tukeyhsd(data2['cons_price_idx'],data2['y']))"
   ]
  },
  {
   "cell_type": "markdown",
   "metadata": {},
   "source": [
    "__Observation-__ From the above table, we can infer that the clients who say 'yes' for the term deposit subscription have slightly less mean consumer price index than compared to the clients who say 'no' for the term deposit subscription."
   ]
  },
  {
   "cell_type": "markdown",
   "metadata": {},
   "source": [
    "### Conclusion of cons.price.idx Column"
   ]
  },
  {
   "cell_type": "markdown",
   "metadata": {},
   "source": [
    "There is a __significant effect__ of consumer price index on the term deposit subscription and the clients who say 'yes' for the term deposit subscription have slightly more less consumer price index than compared to the clients who say'no' for the term deposit subscription."
   ]
  },
  {
   "cell_type": "markdown",
   "metadata": {},
   "source": [
    "# 'cons.conf.idx' Column"
   ]
  },
  {
   "cell_type": "markdown",
   "metadata": {},
   "source": [
    "### Define null and Alternate Hypothesis\n",
    "__Null Hypothesis: H0:__ There is no effect of consumer confidence index on the term deposit subscription.\n",
    "\n",
    "__Alternate Hypothesis: H1:__ There is an effect of consumer confidence index on the term deposit subscription."
   ]
  },
  {
   "cell_type": "code",
   "execution_count": 66,
   "metadata": {},
   "outputs": [],
   "source": [
    "model7 = ols(\"cons_conf_idx ~ y\",data = data2).fit()"
   ]
  },
  {
   "cell_type": "code",
   "execution_count": 67,
   "metadata": {},
   "outputs": [
    {
     "data": {
      "text/html": [
       "<div>\n",
       "<style scoped>\n",
       "    .dataframe tbody tr th:only-of-type {\n",
       "        vertical-align: middle;\n",
       "    }\n",
       "\n",
       "    .dataframe tbody tr th {\n",
       "        vertical-align: top;\n",
       "    }\n",
       "\n",
       "    .dataframe thead th {\n",
       "        text-align: right;\n",
       "    }\n",
       "</style>\n",
       "<table border=\"1\" class=\"dataframe\">\n",
       "  <thead>\n",
       "    <tr style=\"text-align: right;\">\n",
       "      <th></th>\n",
       "      <th>df</th>\n",
       "      <th>sum_sq</th>\n",
       "      <th>mean_sq</th>\n",
       "      <th>F</th>\n",
       "      <th>PR(&gt;F)</th>\n",
       "    </tr>\n",
       "  </thead>\n",
       "  <tbody>\n",
       "    <tr>\n",
       "      <th>y</th>\n",
       "      <td>1.0</td>\n",
       "      <td>2656.927416</td>\n",
       "      <td>2656.927416</td>\n",
       "      <td>124.409975</td>\n",
       "      <td>7.536665e-29</td>\n",
       "    </tr>\n",
       "    <tr>\n",
       "      <th>Residual</th>\n",
       "      <td>41186.0</td>\n",
       "      <td>879577.484094</td>\n",
       "      <td>21.356225</td>\n",
       "      <td>NaN</td>\n",
       "      <td>NaN</td>\n",
       "    </tr>\n",
       "  </tbody>\n",
       "</table>\n",
       "</div>"
      ],
      "text/plain": [
       "               df         sum_sq      mean_sq           F        PR(>F)\n",
       "y             1.0    2656.927416  2656.927416  124.409975  7.536665e-29\n",
       "Residual  41186.0  879577.484094    21.356225         NaN           NaN"
      ]
     },
     "execution_count": 67,
     "metadata": {},
     "output_type": "execute_result"
    }
   ],
   "source": [
    "sms.stats.anova_lm(model7)"
   ]
  },
  {
   "cell_type": "markdown",
   "metadata": {},
   "source": [
    "__Observation-__ Since, the p-value(7.536665e-29) is less than 0.05, so, we can infer that our __null hypothesis is rejected__ and there is a significant effect of consumer confidence index on the term deposit subscription."
   ]
  },
  {
   "cell_type": "markdown",
   "metadata": {},
   "source": [
    "### Post Hoc Test of cons.price.idx Column"
   ]
  },
  {
   "cell_type": "code",
   "execution_count": 68,
   "metadata": {},
   "outputs": [
    {
     "name": "stdout",
     "output_type": "stream",
     "text": [
      "Multiple Comparison of Means - Tukey HSD,FWER=0.05\n",
      "===========================================\n",
      "group1 group2 meandiff lower  upper  reject\n",
      "-------------------------------------------\n",
      "  no    yes    0.8033  0.6622 0.9445  True \n",
      "-------------------------------------------\n"
     ]
    }
   ],
   "source": [
    "print(pairwise_tukeyhsd(data2['cons_conf_idx'],data2['y']))"
   ]
  },
  {
   "cell_type": "markdown",
   "metadata": {},
   "source": [
    "__Observation-__ From the above table, we can infer that the clients who say 'yes' for the term deposit subscription have slightly more mean consumer confidence index than compared to the clients who say 'no' for the term deposit subscription."
   ]
  },
  {
   "cell_type": "markdown",
   "metadata": {},
   "source": [
    "### Conclusion of cons.conf.idx Column"
   ]
  },
  {
   "cell_type": "markdown",
   "metadata": {},
   "source": [
    "There is a __significant effect__ of consumer confidence index on the term deposit subscription and the clients who say 'yes' for the term deposit subscription have slightly more more consumer confidence index than compared to the clients who say'no' for the term deposit subscription."
   ]
  },
  {
   "cell_type": "markdown",
   "metadata": {},
   "source": [
    "# 'euribor3m' Column"
   ]
  },
  {
   "cell_type": "markdown",
   "metadata": {},
   "source": [
    "### Define null and Alternate Hypothesis\n",
    "__Null Hypothesis: H0:__ There is no effect of euribor 3 month rate on the term deposit subscription.\n",
    "\n",
    "__Alternate Hypothesis: H1:__ There is an effect of euribor 3 month rate on the term deposit subscription."
   ]
  },
  {
   "cell_type": "code",
   "execution_count": 69,
   "metadata": {},
   "outputs": [],
   "source": [
    "model8 = ols(\"euribor3m ~ y\",data = data).fit()"
   ]
  },
  {
   "cell_type": "code",
   "execution_count": 70,
   "metadata": {},
   "outputs": [
    {
     "data": {
      "text/html": [
       "<div>\n",
       "<style scoped>\n",
       "    .dataframe tbody tr th:only-of-type {\n",
       "        vertical-align: middle;\n",
       "    }\n",
       "\n",
       "    .dataframe tbody tr th {\n",
       "        vertical-align: top;\n",
       "    }\n",
       "\n",
       "    .dataframe thead th {\n",
       "        text-align: right;\n",
       "    }\n",
       "</style>\n",
       "<table border=\"1\" class=\"dataframe\">\n",
       "  <thead>\n",
       "    <tr style=\"text-align: right;\">\n",
       "      <th></th>\n",
       "      <th>df</th>\n",
       "      <th>sum_sq</th>\n",
       "      <th>mean_sq</th>\n",
       "      <th>F</th>\n",
       "      <th>PR(&gt;F)</th>\n",
       "    </tr>\n",
       "  </thead>\n",
       "  <tbody>\n",
       "    <tr>\n",
       "      <th>y</th>\n",
       "      <td>1.0</td>\n",
       "      <td>11736.509666</td>\n",
       "      <td>11736.509666</td>\n",
       "      <td>4309.479048</td>\n",
       "      <td>0.0</td>\n",
       "    </tr>\n",
       "    <tr>\n",
       "      <th>Residual</th>\n",
       "      <td>41186.0</td>\n",
       "      <td>112166.663700</td>\n",
       "      <td>2.723417</td>\n",
       "      <td>NaN</td>\n",
       "      <td>NaN</td>\n",
       "    </tr>\n",
       "  </tbody>\n",
       "</table>\n",
       "</div>"
      ],
      "text/plain": [
       "               df         sum_sq       mean_sq            F  PR(>F)\n",
       "y             1.0   11736.509666  11736.509666  4309.479048     0.0\n",
       "Residual  41186.0  112166.663700      2.723417          NaN     NaN"
      ]
     },
     "execution_count": 70,
     "metadata": {},
     "output_type": "execute_result"
    }
   ],
   "source": [
    "sms.stats.anova_lm(model8)"
   ]
  },
  {
   "cell_type": "markdown",
   "metadata": {},
   "source": [
    "__Observation-__ Since, the p-value(0.0) is less than 0.05, so, we can infer that our __null hypothesis is rejected__ and there is a significant effect of euribor 3 month rate on the term deposit subscription."
   ]
  },
  {
   "cell_type": "markdown",
   "metadata": {},
   "source": [
    "### Post Hoc Test of euribor3m Column"
   ]
  },
  {
   "cell_type": "code",
   "execution_count": 71,
   "metadata": {},
   "outputs": [
    {
     "name": "stdout",
     "output_type": "stream",
     "text": [
      "Multiple Comparison of Means - Tukey HSD,FWER=0.05\n",
      "=============================================\n",
      "group1 group2 meandiff  lower   upper  reject\n",
      "---------------------------------------------\n",
      "  no    yes   -1.6884  -1.7388 -1.6379  True \n",
      "---------------------------------------------\n"
     ]
    }
   ],
   "source": [
    "print(pairwise_tukeyhsd(data['euribor3m'],data['y']))"
   ]
  },
  {
   "cell_type": "markdown",
   "metadata": {},
   "source": [
    "__Observation-__ From the above table, we can infer that the clients who say 'yes' for the term deposit subscription have less mean euribor 3 month rate than compared to the clients who say 'no' for the term deposit subscription."
   ]
  },
  {
   "cell_type": "markdown",
   "metadata": {},
   "source": [
    "### Conclusion of euribor3m Column"
   ]
  },
  {
   "cell_type": "markdown",
   "metadata": {},
   "source": [
    "There is a __significant effect__ of euribor 3 month rate on the term deposit subscription and the clients who say 'yes' for the term deposit subscription have less mean euribor 3 month rate than compared to the clients who say'no' for the term deposit subscription."
   ]
  },
  {
   "cell_type": "markdown",
   "metadata": {},
   "source": [
    "# 'nr.employed' Column"
   ]
  },
  {
   "cell_type": "markdown",
   "metadata": {},
   "source": [
    "### Define null and Alternate Hypothesis\n",
    "__Null Hypothesis: H0:__ There is no effect of number of employees on the term deposit subscription.\n",
    "\n",
    "__Alternate Hypothesis: H1:__ There is an effect of number of employees on the term deposit subscription."
   ]
  },
  {
   "cell_type": "code",
   "execution_count": 72,
   "metadata": {},
   "outputs": [],
   "source": [
    "model9 = ols(\"nr_employed ~ y\",data = data2).fit()"
   ]
  },
  {
   "cell_type": "code",
   "execution_count": 73,
   "metadata": {},
   "outputs": [
    {
     "data": {
      "text/html": [
       "<div>\n",
       "<style scoped>\n",
       "    .dataframe tbody tr th:only-of-type {\n",
       "        vertical-align: middle;\n",
       "    }\n",
       "\n",
       "    .dataframe tbody tr th {\n",
       "        vertical-align: top;\n",
       "    }\n",
       "\n",
       "    .dataframe thead th {\n",
       "        text-align: right;\n",
       "    }\n",
       "</style>\n",
       "<table border=\"1\" class=\"dataframe\">\n",
       "  <thead>\n",
       "    <tr style=\"text-align: right;\">\n",
       "      <th></th>\n",
       "      <th>df</th>\n",
       "      <th>sum_sq</th>\n",
       "      <th>mean_sq</th>\n",
       "      <th>F</th>\n",
       "      <th>PR(&gt;F)</th>\n",
       "    </tr>\n",
       "  </thead>\n",
       "  <tbody>\n",
       "    <tr>\n",
       "      <th>y</th>\n",
       "      <td>1.0</td>\n",
       "      <td>2.704727e+07</td>\n",
       "      <td>2.704727e+07</td>\n",
       "      <td>5926.610646</td>\n",
       "      <td>0.0</td>\n",
       "    </tr>\n",
       "    <tr>\n",
       "      <th>Residual</th>\n",
       "      <td>41186.0</td>\n",
       "      <td>1.879605e+08</td>\n",
       "      <td>4.563700e+03</td>\n",
       "      <td>NaN</td>\n",
       "      <td>NaN</td>\n",
       "    </tr>\n",
       "  </tbody>\n",
       "</table>\n",
       "</div>"
      ],
      "text/plain": [
       "               df        sum_sq       mean_sq            F  PR(>F)\n",
       "y             1.0  2.704727e+07  2.704727e+07  5926.610646     0.0\n",
       "Residual  41186.0  1.879605e+08  4.563700e+03          NaN     NaN"
      ]
     },
     "execution_count": 73,
     "metadata": {},
     "output_type": "execute_result"
    }
   ],
   "source": [
    "sms.stats.anova_lm(model9)"
   ]
  },
  {
   "cell_type": "markdown",
   "metadata": {},
   "source": [
    "__Observation-__ Since, the p-value(0.0) is less than 0.05, so, we can infer that our __null hypothesis is rejected__ and there is a significant effect of number of employees on the term deposit subscription."
   ]
  },
  {
   "cell_type": "markdown",
   "metadata": {},
   "source": [
    "### Post Hoc Test of nr.employed Column"
   ]
  },
  {
   "cell_type": "code",
   "execution_count": 74,
   "metadata": {},
   "outputs": [
    {
     "name": "stdout",
     "output_type": "stream",
     "text": [
      "Multiple Comparison of Means - Tukey HSD,FWER=0.05\n",
      "===============================================\n",
      "group1 group2 meandiff  lower    upper   reject\n",
      "-----------------------------------------------\n",
      "  no    yes   -81.0506 -83.1142 -78.9871  True \n",
      "-----------------------------------------------\n"
     ]
    }
   ],
   "source": [
    "print(pairwise_tukeyhsd(data2['nr_employed'],data2['y']))"
   ]
  },
  {
   "cell_type": "markdown",
   "metadata": {},
   "source": [
    "__Observation-__ From the above table, we can infer that the clients who say 'yes' for the term deposit subscription have less mean number of employees than compared to the clients who say 'no' for the term deposit subscription."
   ]
  },
  {
   "cell_type": "markdown",
   "metadata": {},
   "source": [
    "### Conclusion of nr.employed Column"
   ]
  },
  {
   "cell_type": "markdown",
   "metadata": {},
   "source": [
    "There is a __significant effect__ of number of employees on the term deposit subscription and the clients who say 'yes' for the term deposit subscription have less mean number of employees than compared to the clients who say'no' for the term deposit subscription."
   ]
  },
  {
   "cell_type": "markdown",
   "metadata": {},
   "source": [
    "# Summary of Statistical Tests of Numerical Features\n",
    "\n",
    "## All numerical features have a significant impact on the target variable."
   ]
  },
  {
   "cell_type": "code",
   "execution_count": null,
   "metadata": {},
   "outputs": [],
   "source": []
  },
  {
   "cell_type": "code",
   "execution_count": null,
   "metadata": {},
   "outputs": [],
   "source": []
  },
  {
   "cell_type": "code",
   "execution_count": null,
   "metadata": {},
   "outputs": [],
   "source": []
  }
 ],
 "metadata": {
  "kernelspec": {
   "display_name": "Python 3",
   "language": "python",
   "name": "python3"
  },
  "language_info": {
   "codemirror_mode": {
    "name": "ipython",
    "version": 3
   },
   "file_extension": ".py",
   "mimetype": "text/x-python",
   "name": "python",
   "nbconvert_exporter": "python",
   "pygments_lexer": "ipython3",
   "version": "3.7.3"
  }
 },
 "nbformat": 4,
 "nbformat_minor": 2
}
