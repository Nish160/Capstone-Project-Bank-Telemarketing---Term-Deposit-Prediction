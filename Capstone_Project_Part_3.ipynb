{
 "cells": [
  {
   "cell_type": "markdown",
   "metadata": {},
   "source": [
    "# Introduction:  Capstone Project Part 3\n",
    "\n",
    "In this project, The data is related with direct marketing campaigns (phone calls) of a Portuguese banking institution. The classification goal is to predict if the client will subscribe a term deposit (variable y)\n",
    "\n",
    "In the first two parts of this project, we implemented the first 6 steps of the machine learning pipeline:\n",
    "\n",
    "1. Data cleaning and formatting\n",
    "2. Exploratory data analysis\n",
    "3. Feature engineering and selection\n",
    "4. Compare several machine learning models on a performance metric\n",
    "5. Perform hyperparameter tuning on the best model to optimize it for the problem\n",
    "6. Evaluate the best model on the testing set\n",
    "7. Interpret the model results to the extent possible\n",
    "8. Draw conclusions and write a well-documented report\n",
    "\n",
    "In this notebook, we will concentrate on the last two steps."
   ]
  },
  {
   "cell_type": "markdown",
   "metadata": {},
   "source": [
    "### Imports\n",
    "\n",
    "We will use a familiar stack of data science and machine learning libraries."
   ]
  },
  {
   "cell_type": "code",
   "execution_count": 1,
   "metadata": {},
   "outputs": [],
   "source": [
    "# Pandas and numpy for data manipulation\n",
    "import pandas as pd\n",
    "import numpy as np\n",
    "\n",
    "# No warnings about setting value on copy of slice\n",
    "pd.options.mode.chained_assignment = None\n",
    "pd.set_option('display.max_columns', 60)\n",
    "\n",
    "# Matplotlib for visualization\n",
    "import matplotlib.pyplot as plt\n",
    "%matplotlib inline\n",
    "\n",
    "# Set default font size\n",
    "plt.rcParams['font.size'] = 12\n",
    "\n",
    "from IPython.core.pylabtools import figsize\n",
    "\n",
    "# Seaborn for visualization\n",
    "import seaborn as sns\n",
    "\n",
    "sns.set(font_scale = 2)\n",
    "\n",
    "import warnings\n",
    "warnings.filterwarnings(\"ignore\")\n",
    "\n",
    "# Machine Learning Models\n",
    "from sklearn.linear_model import LogisticRegression\n",
    "\n",
    "from sklearn.metrics import classification_report, f1_score,accuracy_score,confusion_matrix,roc_curve,roc_auc_score,precision_score\n",
    "\n",
    "from scipy import stats"
   ]
  },
  {
   "cell_type": "markdown",
   "metadata": {},
   "source": [
    "### Read in Data"
   ]
  },
  {
   "cell_type": "code",
   "execution_count": 2,
   "metadata": {},
   "outputs": [],
   "source": [
    "# Note: Please edit this section to include output from Part 2 ie Smote data\n",
    "final_X=pd.read_csv(\"data/training_features.csv\")\n",
    "SMOTE_X = pd.read_csv(\"data/SMOTE_training_features.csv\")\n",
    "final_X_test=pd.read_csv(\"data/testing_features.csv\")\n",
    "final_y=pd.read_csv(\"data/training_labels.csv\")\n",
    "SMOTE_Y = pd.read_csv(\"data/SMOTE_training_labels.csv\")\n",
    "final_y_test=pd.read_csv(\"data/testing_labels.csv\")"
   ]
  },
  {
   "cell_type": "markdown",
   "metadata": {},
   "source": [
    "## Recreate Final Model - With SMOTE"
   ]
  },
  {
   "cell_type": "code",
   "execution_count": 106,
   "metadata": {
    "scrolled": true
   },
   "outputs": [
    {
     "data": {
      "text/plain": [
       "LogisticRegression(C=1.0, class_weight=None, dual=False, fit_intercept=True,\n",
       "          intercept_scaling=1, max_iter=100, multi_class='warn',\n",
       "          n_jobs=None, penalty='l2', random_state=None, solver='warn',\n",
       "          tol=0.0001, verbose=0, warm_start=False)"
      ]
     },
     "execution_count": 106,
     "metadata": {},
     "output_type": "execute_result"
    }
   ],
   "source": [
    "model =LogisticRegression()\n",
    "model.fit(SMOTE_X, SMOTE_Y)"
   ]
  },
  {
   "cell_type": "code",
   "execution_count": 107,
   "metadata": {},
   "outputs": [
    {
     "name": "stdout",
     "output_type": "stream",
     "text": [
      "Final Model Performance on the test set:\n",
      " f1_score :  0.5966416577349053\n",
      " classification_report :                precision    recall  f1-score   support\n",
      "\n",
      "           0       0.98      0.86      0.92      7298\n",
      "           1       0.45      0.89      0.60       940\n",
      "\n",
      "   micro avg       0.86      0.86      0.86      8238\n",
      "   macro avg       0.72      0.87      0.76      8238\n",
      "weighted avg       0.92      0.86      0.88      8238\n",
      "\n",
      " confusion_matrix :  [[6274 1024]\n",
      " [ 105  835]]\n",
      " accuracy_score :  0.8629521728574897\n"
     ]
    }
   ],
   "source": [
    "#  Make predictions on the test set\n",
    "ypred=model.predict(final_X_test)\n",
    "\n",
    "print('Final Model Performance on the test set:')\n",
    "print(' f1_score : ',f1_score(final_y_test,ypred))\n",
    "print(' classification_report : ',classification_report(final_y_test,ypred))\n",
    "print(' confusion_matrix : ',confusion_matrix(final_y_test,ypred))\n",
    "print(' accuracy_score : ',accuracy_score(final_y_test,ypred))"
   ]
  },
  {
   "cell_type": "markdown",
   "metadata": {},
   "source": [
    "## Recreate Final Model - Without SMOTE"
   ]
  },
  {
   "cell_type": "code",
   "execution_count": 3,
   "metadata": {},
   "outputs": [
    {
     "data": {
      "text/plain": [
       "LogisticRegression(C=1.0, class_weight=None, dual=False, fit_intercept=True,\n",
       "          intercept_scaling=1, max_iter=100, multi_class='warn',\n",
       "          n_jobs=None, penalty='l2', random_state=None, solver='warn',\n",
       "          tol=0.0001, verbose=0, warm_start=False)"
      ]
     },
     "execution_count": 3,
     "metadata": {},
     "output_type": "execute_result"
    }
   ],
   "source": [
    "model = LogisticRegression()\n",
    "model.fit(final_X, final_y)"
   ]
  },
  {
   "cell_type": "code",
   "execution_count": 4,
   "metadata": {},
   "outputs": [
    {
     "name": "stdout",
     "output_type": "stream",
     "text": [
      "Final Model Performance on the test set:\n",
      " f1_score :  0.5263157894736842\n",
      " classification_report :                precision    recall  f1-score   support\n",
      "\n",
      "           0       0.93      0.98      0.95      7298\n",
      "           1       0.69      0.43      0.53       940\n",
      "\n",
      "   micro avg       0.91      0.91      0.91      8238\n",
      "   macro avg       0.81      0.70      0.74      8238\n",
      "weighted avg       0.90      0.91      0.90      8238\n",
      "\n",
      " confusion_matrix :  [[7118  180]\n",
      " [ 540  400]]\n",
      " accuracy_score :  0.9126001456664239\n"
     ]
    }
   ],
   "source": [
    "#  Make predictions on the test set\n",
    "ypred=model.predict(final_X_test)\n",
    "\n",
    "print('Final Model Performance on the test set:')\n",
    "print(' f1_score : ',f1_score(final_y_test,ypred))\n",
    "print(' classification_report : ',classification_report(final_y_test,ypred))\n",
    "print(' confusion_matrix : ',confusion_matrix(final_y_test,ypred))\n",
    "print(' accuracy_score : ',accuracy_score(final_y_test,ypred))"
   ]
  },
  {
   "cell_type": "markdown",
   "metadata": {},
   "source": [
    "### <font color= Blue>Predicted probabilities of  0 (Not Subscribed to Term Deposit) and 1 ( Yes: Subscribed to Term Deposit)  for the test data with a default classification threshold of 0.5 <font>\n"
   ]
  },
  {
   "cell_type": "code",
   "execution_count": 110,
   "metadata": {},
   "outputs": [
    {
     "data": {
      "text/html": [
       "<div>\n",
       "<style scoped>\n",
       "    .dataframe tbody tr th:only-of-type {\n",
       "        vertical-align: middle;\n",
       "    }\n",
       "\n",
       "    .dataframe tbody tr th {\n",
       "        vertical-align: top;\n",
       "    }\n",
       "\n",
       "    .dataframe thead th {\n",
       "        text-align: right;\n",
       "    }\n",
       "</style>\n",
       "<table border=\"1\" class=\"dataframe\">\n",
       "  <thead>\n",
       "    <tr style=\"text-align: right;\">\n",
       "      <th></th>\n",
       "      <th>Prob of no</th>\n",
       "      <th>Prob of yes</th>\n",
       "    </tr>\n",
       "  </thead>\n",
       "  <tbody>\n",
       "    <tr>\n",
       "      <th>0</th>\n",
       "      <td>0.983868</td>\n",
       "      <td>0.016132</td>\n",
       "    </tr>\n",
       "    <tr>\n",
       "      <th>1</th>\n",
       "      <td>0.780780</td>\n",
       "      <td>0.219220</td>\n",
       "    </tr>\n",
       "    <tr>\n",
       "      <th>2</th>\n",
       "      <td>0.974361</td>\n",
       "      <td>0.025639</td>\n",
       "    </tr>\n",
       "    <tr>\n",
       "      <th>3</th>\n",
       "      <td>0.976224</td>\n",
       "      <td>0.023776</td>\n",
       "    </tr>\n",
       "    <tr>\n",
       "      <th>4</th>\n",
       "      <td>0.868278</td>\n",
       "      <td>0.131722</td>\n",
       "    </tr>\n",
       "  </tbody>\n",
       "</table>\n",
       "</div>"
      ],
      "text/plain": [
       "   Prob of no   Prob of yes\n",
       "0     0.983868     0.016132\n",
       "1     0.780780     0.219220\n",
       "2     0.974361     0.025639\n",
       "3     0.976224     0.023776\n",
       "4     0.868278     0.131722"
      ]
     },
     "execution_count": 110,
     "metadata": {},
     "output_type": "execute_result"
    }
   ],
   "source": [
    "y_pred_prob=model.predict_proba(final_X_test)[:,:]\n",
    "y_pred_prob_df=pd.DataFrame(data=y_pred_prob, columns=['Prob of no ','Prob of yes'])\n",
    "y_pred_prob_df.head()"
   ]
  },
  {
   "cell_type": "markdown",
   "metadata": {},
   "source": [
    "### Lower The Threshold :\n",
    "- Since the model is predicting Term  Deposit Subscription for bank marketing campaign, thus  too many type II errors ie False Negatives  is not advisable. \n",
    "- A False Negative ( ignoring the probability of subscription when there actualy is one - ie losing a customer) is more harmful for marketing than a False Positive in this case.\n",
    "- Hence inorder to increase the sensitivity,  threshold can be lowered."
   ]
  },
  {
   "cell_type": "code",
   "execution_count": 24,
   "metadata": {},
   "outputs": [
    {
     "name": "stdout",
     "output_type": "stream",
     "text": [
      "With 0.1 threshold the Confusion Matrix is  \n",
      " [[6131 1167]\n",
      " [  74  866]] \n",
      " with 6997 correct predictions and 74 Type II errors( False Negatives) \n",
      "\n",
      " Sensitivity:  0.9212765957446809 Specificity:  0.840093176212661\n",
      "f1-score:  0.5825765220316179\n",
      "roc_auc_score:  0.880684885978671 \n",
      "\n",
      "\n",
      "\n",
      "With 0.2 threshold the Confusion Matrix is  \n",
      " [[6621  677]\n",
      " [ 219  721]] \n",
      " with 7342 correct predictions and 219 Type II errors( False Negatives) \n",
      "\n",
      " Sensitivity:  0.7670212765957447 Specificity:  0.9072348588654426\n",
      "f1-score:  0.6167664670658682\n",
      "roc_auc_score:  0.8371280677305937 \n",
      "\n",
      "\n",
      "\n",
      "With 0.3 threshold the Confusion Matrix is  \n",
      " [[6883  415]\n",
      " [ 314  626]] \n",
      " with 7509 correct predictions and 314 Type II errors( False Negatives) \n",
      "\n",
      " Sensitivity:  0.6659574468085107 Specificity:  0.9431351055083584\n",
      "f1-score:  0.6320040383644624\n",
      "roc_auc_score:  0.8045462761584345 \n",
      "\n",
      "\n",
      "\n",
      "With 0.4 threshold the Confusion Matrix is  \n",
      " [[7026  272]\n",
      " [ 440  500]] \n",
      " with 7526 correct predictions and 440 Type II errors( False Negatives) \n",
      "\n",
      " Sensitivity:  0.5319148936170213 Specificity:  0.9627295149355988\n",
      "f1-score:  0.5841121495327102\n",
      "roc_auc_score:  0.74732220427631 \n",
      "\n",
      "\n",
      "\n"
     ]
    }
   ],
   "source": [
    "from sklearn.preprocessing import binarize\n",
    "for i in range(1,5):\n",
    "    cm2=0\n",
    "    y_pred_prob_yes=model.predict_proba(final_X_test)\n",
    "    y_pred2=binarize(y_pred_prob_yes,i/10)[:,1]\n",
    "    cm2=confusion_matrix(final_y_test,y_pred2)\n",
    "    print ('With',i/10,'threshold the Confusion Matrix is ','\\n',cm2,'\\n',\n",
    "            'with',cm2[0,0]+cm2[1,1],'correct predictions and',cm2[1,0],'Type II errors( False Negatives)','\\n\\n',\n",
    "          'Sensitivity: ',cm2[1,1]/(float(cm2[1,1]+cm2[1,0])),'Specificity: ',cm2[0,0]/(float(cm2[0,0]+cm2[0,1])))\n",
    "    print('f1-score: ',f1_score(final_y_test,y_pred2))\n",
    "    print('roc_auc_score: ',roc_auc_score(final_y_test,y_pred2),'\\n\\n\\n')\n",
    "    \n",
    "    "
   ]
  },
  {
   "cell_type": "markdown",
   "metadata": {},
   "source": [
    "### ROC Curve: for choosing the right threshold\n",
    "- A common way to visualize the trade-offs of different thresholds is by using an ROC curve, a plot of the true positive rate ( true positives/ total  positives) versus the false positive rate ( false positives /total  negatives) for all possible choices of thresholds.\n",
    "- A model with good classification accuracy should have significantly more true positives than false positives at all thresholds. \n",
    "- The optimum position for roc curve is towards the top left corner where the specificity and sensitivity are at optimum levels"
   ]
  },
  {
   "cell_type": "code",
   "execution_count": 25,
   "metadata": {},
   "outputs": [
    {
     "data": {
      "image/png": "[encoded data removed]",
      "text/plain": [
       "<Figure size 576x360 with 1 Axes>"
      ]
     },
     "metadata": {},
     "output_type": "display_data"
    }
   ],
   "source": [
    "from sklearn.metrics import roc_curve\n",
    "plt.figure(figsize=(8,5))\n",
    "fpr, tpr, thresholds = roc_curve(final_y_test,y_pred_prob_yes[:,1])\n",
    "plt.plot(fpr,tpr)\n",
    "plt.title('ROC curve for Term deposit Subscription classifier')\n",
    "plt.xlabel('False positive rate (1-Specificity)')\n",
    "plt.ylabel('True positive rate (Sensitivity)')\n",
    "plt.grid(True)"
   ]
  },
  {
   "cell_type": "markdown",
   "metadata": {},
   "source": [
    "## Final Model Performance : \n",
    "Since Model built by lowering the threshold is performing better than model with SMOTE for handling imbalanced data . Thus, we will proceed with threshold shifted Logistic Regression model as our final model."
   ]
  },
  {
   "cell_type": "code",
   "execution_count": 7,
   "metadata": {},
   "outputs": [
    {
     "name": "stdout",
     "output_type": "stream",
     "text": [
      "Final Model Performance on the test set:\n",
      " f1_score :  0.6147260273972603\n",
      " classification_report :                precision    recall  f1-score   support\n",
      "\n",
      "           0       0.97      0.91      0.94      7298\n",
      "           1       0.51      0.76      0.61       940\n",
      "\n",
      "   micro avg       0.89      0.89      0.89      8238\n",
      "   macro avg       0.74      0.84      0.78      8238\n",
      "weighted avg       0.92      0.89      0.90      8238\n",
      "\n",
      " confusion_matrix :  [[6620  678]\n",
      " [ 222  718]]\n",
      " accuracy_score :  0.8907501820830298\n",
      " roc_auc_score :  0.8354638111286684\n"
     ]
    }
   ],
   "source": [
    "y_pred_prob_yes=model.predict_proba(final_X_test)\n",
    "# Selecting threshold from confusion matrix and roc curve \n",
    "threshold=0.2\n",
    "y_pred2=binarize(y_pred_prob_yes,threshold)[:,1]\n",
    "print('Final Model Performance on the test set:')\n",
    "print(' f1_score : ',f1_score(final_y_test,y_pred2))\n",
    "print(' classification_report : ',classification_report(final_y_test,y_pred2))\n",
    "print(' confusion_matrix : ',confusion_matrix(final_y_test,y_pred2))\n",
    "print(' accuracy_score : ',accuracy_score(final_y_test,y_pred2))\n",
    "print(' roc_auc_score : ',roc_auc_score(final_y_test,y_pred2))"
   ]
  },
  {
   "cell_type": "markdown",
   "metadata": {},
   "source": [
    "## Range Estimate of Model Performance:"
   ]
  },
  {
   "cell_type": "code",
   "execution_count": 3,
   "metadata": {},
   "outputs": [
    {
     "name": "stdout",
     "output_type": "stream",
     "text": [
      "(41188, 40)\n"
     ]
    },
    {
     "data": {
      "text/html": [
       "<div>\n",
       "<style scoped>\n",
       "    .dataframe tbody tr th:only-of-type {\n",
       "        vertical-align: middle;\n",
       "    }\n",
       "\n",
       "    .dataframe tbody tr th {\n",
       "        vertical-align: top;\n",
       "    }\n",
       "\n",
       "    .dataframe thead th {\n",
       "        text-align: right;\n",
       "    }\n",
       "</style>\n",
       "<table border=\"1\" class=\"dataframe\">\n",
       "  <thead>\n",
       "    <tr style=\"text-align: right;\">\n",
       "      <th></th>\n",
       "      <th>age</th>\n",
       "      <th>duration</th>\n",
       "      <th>campaign</th>\n",
       "      <th>pdays</th>\n",
       "      <th>emp.var.rate</th>\n",
       "      <th>cons.price.idx</th>\n",
       "      <th>cons.conf.idx</th>\n",
       "      <th>euribor3m</th>\n",
       "      <th>nr.employed</th>\n",
       "      <th>marital_divorced</th>\n",
       "      <th>marital_married</th>\n",
       "      <th>marital_single</th>\n",
       "      <th>education_basic.4y</th>\n",
       "      <th>education_basic.6y</th>\n",
       "      <th>education_basic.9y</th>\n",
       "      <th>education_high.school</th>\n",
       "      <th>education_illiterate</th>\n",
       "      <th>education_professional.course</th>\n",
       "      <th>education_university.degree</th>\n",
       "      <th>contact_cellular</th>\n",
       "      <th>contact_telephone</th>\n",
       "      <th>month_apr</th>\n",
       "      <th>month_aug</th>\n",
       "      <th>month_dec</th>\n",
       "      <th>month_jul</th>\n",
       "      <th>month_jun</th>\n",
       "      <th>month_mar</th>\n",
       "      <th>month_may</th>\n",
       "      <th>month_nov</th>\n",
       "      <th>month_oct</th>\n",
       "      <th>month_sep</th>\n",
       "      <th>day_of_week_fri</th>\n",
       "      <th>day_of_week_mon</th>\n",
       "      <th>day_of_week_thu</th>\n",
       "      <th>day_of_week_tue</th>\n",
       "      <th>day_of_week_wed</th>\n",
       "      <th>poutcome_failure</th>\n",
       "      <th>poutcome_nonexistent</th>\n",
       "      <th>poutcome_success</th>\n",
       "      <th>y</th>\n",
       "    </tr>\n",
       "  </thead>\n",
       "  <tbody>\n",
       "    <tr>\n",
       "      <th>0</th>\n",
       "      <td>-0.481846</td>\n",
       "      <td>-0.310570</td>\n",
       "      <td>-0.204850</td>\n",
       "      <td>-0.195584</td>\n",
       "      <td>0.643045</td>\n",
       "      <td>0.720048</td>\n",
       "      <td>0.883266</td>\n",
       "      <td>0.707515</td>\n",
       "      <td>0.326210</td>\n",
       "      <td>-0.354796</td>\n",
       "      <td>0.802986</td>\n",
       "      <td>-0.623938</td>\n",
       "      <td>-0.342753</td>\n",
       "      <td>-0.241443</td>\n",
       "      <td>-0.433723</td>\n",
       "      <td>1.780550</td>\n",
       "      <td>-0.020617</td>\n",
       "      <td>-0.393399</td>\n",
       "      <td>-0.665932</td>\n",
       "      <td>-1.320521</td>\n",
       "      <td>1.320521</td>\n",
       "      <td>-0.260639</td>\n",
       "      <td>-0.421558</td>\n",
       "      <td>-0.066713</td>\n",
       "      <td>-0.460893</td>\n",
       "      <td>-0.385544</td>\n",
       "      <td>-0.114038</td>\n",
       "      <td>1.414342</td>\n",
       "      <td>-0.332602</td>\n",
       "      <td>-0.132678</td>\n",
       "      <td>-0.116605</td>\n",
       "      <td>2.060172</td>\n",
       "      <td>-0.509325</td>\n",
       "      <td>-0.514472</td>\n",
       "      <td>-0.496393</td>\n",
       "      <td>-0.494303</td>\n",
       "      <td>-0.339649</td>\n",
       "      <td>0.398169</td>\n",
       "      <td>-0.185928</td>\n",
       "      <td>0</td>\n",
       "    </tr>\n",
       "    <tr>\n",
       "      <th>1</th>\n",
       "      <td>-1.730916</td>\n",
       "      <td>-0.009892</td>\n",
       "      <td>0.162686</td>\n",
       "      <td>-0.195584</td>\n",
       "      <td>-1.140950</td>\n",
       "      <td>1.101751</td>\n",
       "      <td>0.039589</td>\n",
       "      <td>-1.616536</td>\n",
       "      <td>-2.444456</td>\n",
       "      <td>-0.354796</td>\n",
       "      <td>-1.245352</td>\n",
       "      <td>1.602723</td>\n",
       "      <td>-0.342753</td>\n",
       "      <td>-0.241443</td>\n",
       "      <td>-0.433723</td>\n",
       "      <td>-0.561624</td>\n",
       "      <td>-0.020617</td>\n",
       "      <td>2.541949</td>\n",
       "      <td>-0.665932</td>\n",
       "      <td>0.757277</td>\n",
       "      <td>-0.757277</td>\n",
       "      <td>-0.260639</td>\n",
       "      <td>-0.421558</td>\n",
       "      <td>-0.066713</td>\n",
       "      <td>2.169701</td>\n",
       "      <td>-0.385544</td>\n",
       "      <td>-0.114038</td>\n",
       "      <td>-0.707042</td>\n",
       "      <td>-0.332602</td>\n",
       "      <td>-0.132678</td>\n",
       "      <td>-0.116605</td>\n",
       "      <td>-0.485396</td>\n",
       "      <td>-0.509325</td>\n",
       "      <td>-0.514472</td>\n",
       "      <td>2.014531</td>\n",
       "      <td>-0.494303</td>\n",
       "      <td>2.944219</td>\n",
       "      <td>-2.511495</td>\n",
       "      <td>-0.185928</td>\n",
       "      <td>1</td>\n",
       "    </tr>\n",
       "    <tr>\n",
       "      <th>2</th>\n",
       "      <td>-0.193599</td>\n",
       "      <td>-0.834829</td>\n",
       "      <td>0.897757</td>\n",
       "      <td>-0.195584</td>\n",
       "      <td>0.834187</td>\n",
       "      <td>1.533541</td>\n",
       "      <td>-0.284902</td>\n",
       "      <td>0.766454</td>\n",
       "      <td>0.841715</td>\n",
       "      <td>-0.354796</td>\n",
       "      <td>0.802986</td>\n",
       "      <td>-0.623938</td>\n",
       "      <td>-0.342753</td>\n",
       "      <td>-0.241443</td>\n",
       "      <td>2.305621</td>\n",
       "      <td>-0.561624</td>\n",
       "      <td>-0.020617</td>\n",
       "      <td>-0.393399</td>\n",
       "      <td>-0.665932</td>\n",
       "      <td>-1.320521</td>\n",
       "      <td>1.320521</td>\n",
       "      <td>-0.260639</td>\n",
       "      <td>-0.421558</td>\n",
       "      <td>-0.066713</td>\n",
       "      <td>-0.460893</td>\n",
       "      <td>2.593740</td>\n",
       "      <td>-0.114038</td>\n",
       "      <td>-0.707042</td>\n",
       "      <td>-0.332602</td>\n",
       "      <td>-0.132678</td>\n",
       "      <td>-0.116605</td>\n",
       "      <td>2.060172</td>\n",
       "      <td>-0.509325</td>\n",
       "      <td>-0.514472</td>\n",
       "      <td>-0.496393</td>\n",
       "      <td>-0.494303</td>\n",
       "      <td>-0.339649</td>\n",
       "      <td>0.398169</td>\n",
       "      <td>-0.185928</td>\n",
       "      <td>0</td>\n",
       "    </tr>\n",
       "    <tr>\n",
       "      <th>3</th>\n",
       "      <td>-1.442669</td>\n",
       "      <td>0.707109</td>\n",
       "      <td>-0.204850</td>\n",
       "      <td>-0.195584</td>\n",
       "      <td>0.834187</td>\n",
       "      <td>0.588783</td>\n",
       "      <td>-0.479597</td>\n",
       "      <td>0.768765</td>\n",
       "      <td>0.841715</td>\n",
       "      <td>-0.354796</td>\n",
       "      <td>-1.245352</td>\n",
       "      <td>1.602723</td>\n",
       "      <td>-0.342753</td>\n",
       "      <td>-0.241443</td>\n",
       "      <td>2.305621</td>\n",
       "      <td>-0.561624</td>\n",
       "      <td>-0.020617</td>\n",
       "      <td>-0.393399</td>\n",
       "      <td>-0.665932</td>\n",
       "      <td>0.757277</td>\n",
       "      <td>-0.757277</td>\n",
       "      <td>-0.260639</td>\n",
       "      <td>-0.421558</td>\n",
       "      <td>-0.066713</td>\n",
       "      <td>2.169701</td>\n",
       "      <td>-0.385544</td>\n",
       "      <td>-0.114038</td>\n",
       "      <td>-0.707042</td>\n",
       "      <td>-0.332602</td>\n",
       "      <td>-0.132678</td>\n",
       "      <td>-0.116605</td>\n",
       "      <td>-0.485396</td>\n",
       "      <td>-0.509325</td>\n",
       "      <td>-0.514472</td>\n",
       "      <td>-0.496393</td>\n",
       "      <td>2.023051</td>\n",
       "      <td>-0.339649</td>\n",
       "      <td>0.398169</td>\n",
       "      <td>-0.185928</td>\n",
       "      <td>0</td>\n",
       "    </tr>\n",
       "    <tr>\n",
       "      <th>4</th>\n",
       "      <td>-0.289682</td>\n",
       "      <td>-0.584264</td>\n",
       "      <td>0.530222</td>\n",
       "      <td>-0.195584</td>\n",
       "      <td>0.834187</td>\n",
       "      <td>-0.229892</td>\n",
       "      <td>0.948164</td>\n",
       "      <td>0.769343</td>\n",
       "      <td>0.841715</td>\n",
       "      <td>-0.354796</td>\n",
       "      <td>0.802986</td>\n",
       "      <td>-0.623938</td>\n",
       "      <td>-0.342753</td>\n",
       "      <td>-0.241443</td>\n",
       "      <td>-0.433723</td>\n",
       "      <td>-0.561624</td>\n",
       "      <td>-0.020617</td>\n",
       "      <td>-0.393399</td>\n",
       "      <td>1.501654</td>\n",
       "      <td>0.757277</td>\n",
       "      <td>-0.757277</td>\n",
       "      <td>-0.260639</td>\n",
       "      <td>2.372153</td>\n",
       "      <td>-0.066713</td>\n",
       "      <td>-0.460893</td>\n",
       "      <td>-0.385544</td>\n",
       "      <td>-0.114038</td>\n",
       "      <td>-0.707042</td>\n",
       "      <td>-0.332602</td>\n",
       "      <td>-0.132678</td>\n",
       "      <td>-0.116605</td>\n",
       "      <td>-0.485396</td>\n",
       "      <td>-0.509325</td>\n",
       "      <td>-0.514472</td>\n",
       "      <td>-0.496393</td>\n",
       "      <td>2.023051</td>\n",
       "      <td>-0.339649</td>\n",
       "      <td>0.398169</td>\n",
       "      <td>-0.185928</td>\n",
       "      <td>0</td>\n",
       "    </tr>\n",
       "  </tbody>\n",
       "</table>\n",
       "</div>"
      ],
      "text/plain": [
       "        age  duration  campaign     pdays  emp.var.rate  cons.price.idx  \\\n",
       "0 -0.481846 -0.310570 -0.204850 -0.195584      0.643045        0.720048   \n",
       "1 -1.730916 -0.009892  0.162686 -0.195584     -1.140950        1.101751   \n",
       "2 -0.193599 -0.834829  0.897757 -0.195584      0.834187        1.533541   \n",
       "3 -1.442669  0.707109 -0.204850 -0.195584      0.834187        0.588783   \n",
       "4 -0.289682 -0.584264  0.530222 -0.195584      0.834187       -0.229892   \n",
       "\n",
       "   cons.conf.idx  euribor3m  nr.employed  marital_divorced  marital_married  \\\n",
       "0       0.883266   0.707515     0.326210         -0.354796         0.802986   \n",
       "1       0.039589  -1.616536    -2.444456         -0.354796        -1.245352   \n",
       "2      -0.284902   0.766454     0.841715         -0.354796         0.802986   \n",
       "3      -0.479597   0.768765     0.841715         -0.354796        -1.245352   \n",
       "4       0.948164   0.769343     0.841715         -0.354796         0.802986   \n",
       "\n",
       "   marital_single  education_basic.4y  education_basic.6y  education_basic.9y  \\\n",
       "0       -0.623938           -0.342753           -0.241443           -0.433723   \n",
       "1        1.602723           -0.342753           -0.241443           -0.433723   \n",
       "2       -0.623938           -0.342753           -0.241443            2.305621   \n",
       "3        1.602723           -0.342753           -0.241443            2.305621   \n",
       "4       -0.623938           -0.342753           -0.241443           -0.433723   \n",
       "\n",
       "   education_high.school  education_illiterate  education_professional.course  \\\n",
       "0               1.780550             -0.020617                      -0.393399   \n",
       "1              -0.561624             -0.020617                       2.541949   \n",
       "2              -0.561624             -0.020617                      -0.393399   \n",
       "3              -0.561624             -0.020617                      -0.393399   \n",
       "4              -0.561624             -0.020617                      -0.393399   \n",
       "\n",
       "   education_university.degree  contact_cellular  contact_telephone  \\\n",
       "0                    -0.665932         -1.320521           1.320521   \n",
       "1                    -0.665932          0.757277          -0.757277   \n",
       "2                    -0.665932         -1.320521           1.320521   \n",
       "3                    -0.665932          0.757277          -0.757277   \n",
       "4                     1.501654          0.757277          -0.757277   \n",
       "\n",
       "   month_apr  month_aug  month_dec  month_jul  month_jun  month_mar  \\\n",
       "0  -0.260639  -0.421558  -0.066713  -0.460893  -0.385544  -0.114038   \n",
       "1  -0.260639  -0.421558  -0.066713   2.169701  -0.385544  -0.114038   \n",
       "2  -0.260639  -0.421558  -0.066713  -0.460893   2.593740  -0.114038   \n",
       "3  -0.260639  -0.421558  -0.066713   2.169701  -0.385544  -0.114038   \n",
       "4  -0.260639   2.372153  -0.066713  -0.460893  -0.385544  -0.114038   \n",
       "\n",
       "   month_may  month_nov  month_oct  month_sep  day_of_week_fri  \\\n",
       "0   1.414342  -0.332602  -0.132678  -0.116605         2.060172   \n",
       "1  -0.707042  -0.332602  -0.132678  -0.116605        -0.485396   \n",
       "2  -0.707042  -0.332602  -0.132678  -0.116605         2.060172   \n",
       "3  -0.707042  -0.332602  -0.132678  -0.116605        -0.485396   \n",
       "4  -0.707042  -0.332602  -0.132678  -0.116605        -0.485396   \n",
       "\n",
       "   day_of_week_mon  day_of_week_thu  day_of_week_tue  day_of_week_wed  \\\n",
       "0        -0.509325        -0.514472        -0.496393        -0.494303   \n",
       "1        -0.509325        -0.514472         2.014531        -0.494303   \n",
       "2        -0.509325        -0.514472        -0.496393        -0.494303   \n",
       "3        -0.509325        -0.514472        -0.496393         2.023051   \n",
       "4        -0.509325        -0.514472        -0.496393         2.023051   \n",
       "\n",
       "   poutcome_failure  poutcome_nonexistent  poutcome_success  y  \n",
       "0         -0.339649              0.398169         -0.185928  0  \n",
       "1          2.944219             -2.511495         -0.185928  1  \n",
       "2         -0.339649              0.398169         -0.185928  0  \n",
       "3         -0.339649              0.398169         -0.185928  0  \n",
       "4         -0.339649              0.398169         -0.185928  0  "
      ]
     },
     "execution_count": 3,
     "metadata": {},
     "output_type": "execute_result"
    }
   ],
   "source": [
    "full_X=pd.concat([final_X,final_X_test],axis=0)\n",
    "full_y=pd.concat([final_y,final_y_test],axis=0)\n",
    "full_data=pd.concat([full_X,full_y],axis=1)\n",
    "print(full_data.shape)\n",
    "full_data.head()"
   ]
  },
  {
   "cell_type": "code",
   "execution_count": 4,
   "metadata": {},
   "outputs": [],
   "source": [
    "full_data.to_csv('full_data_scaled_encoded.csv',index=False)"
   ]
  },
  {
   "cell_type": "code",
   "execution_count": 9,
   "metadata": {},
   "outputs": [],
   "source": [
    "from sklearn.model_selection import train_test_split"
   ]
  },
  {
   "cell_type": "code",
   "execution_count": 15,
   "metadata": {},
   "outputs": [],
   "source": [
    "# generating n train-test (bootstrap) samples from population data to estimate the model performance:\n",
    "n_samples=100\n",
    "sample_f1_scores=[]\n",
    "sample_accuracy_scores=[]\n",
    "sample_roc_auc_scores=[]\n",
    "for i in range(n_samples):\n",
    "    xtrain, xtest, ytrain, ytest= train_test_split(full_X, full_y,test_size=0.3, shuffle=True)\n",
    "    model = LogisticRegression()\n",
    "    \n",
    "    model.fit(xtrain, ytrain)\n",
    "    ypred=model.predict(xtest)\n",
    "    y_pred_prob_yes=model.predict_proba(xtest)\n",
    "    threshold=0.2\n",
    "    y_pred2=binarize(y_pred_prob_yes,threshold)[:,1]\n",
    "\n",
    "    sample_f1_scores.append(f1_score(ytest,y_pred2))\n",
    "    sample_accuracy_scores.append(accuracy_score(ytest,y_pred2))\n",
    "    sample_roc_auc_scores.append(roc_auc_score(ytest,y_pred2))"
   ]
  },
  {
   "cell_type": "code",
   "execution_count": 16,
   "metadata": {},
   "outputs": [],
   "source": [
    "def confidence_interval(metric,sample):\n",
    "    sns.distplot(sample)\n",
    "    plt.show()\n",
    "    lower_limit,upper_limit=stats.t.interval(alpha=0.05,loc=np.mean(sample),scale=np.std(sample),df=n_samples-1)\n",
    "    print('Range estimate for ',metric,' at 95% confidence level is :',lower_limit,' to ', upper_limit)\n",
    "    return((lower_limit,upper_limit))"
   ]
  },
  {
   "cell_type": "code",
   "execution_count": 17,
   "metadata": {
    "scrolled": true
   },
   "outputs": [
    {
     "data": {
      "image/png": "[encoded data removed]",
      "text/plain": [
       "<Figure size 432x288 with 1 Axes>"
      ]
     },
     "metadata": {
      "needs_background": "light"
     },
     "output_type": "display_data"
    },
    {
     "name": "stdout",
     "output_type": "stream",
     "text": [
      "Range estimate for  f1_score  at 95% confidence level is : 0.6092813351483618  to  0.6104272869958246\n"
     ]
    }
   ],
   "source": [
    "ci_f1_score=confidence_interval('f1_score',sample_f1_scores)"
   ]
  },
  {
   "cell_type": "code",
   "execution_count": 21,
   "metadata": {},
   "outputs": [
    {
     "data": {
      "image/png": "[encoded data removed]",
      "text/plain": [
       "<Figure size 432x288 with 1 Axes>"
      ]
     },
     "metadata": {
      "needs_background": "light"
     },
     "output_type": "display_data"
    },
    {
     "name": "stdout",
     "output_type": "stream",
     "text": [
      "Range estimate for  accuracy_score  at 95% confidence level is : 0.8909820952716162  to  0.8913048675834457\n"
     ]
    }
   ],
   "source": [
    "ci_accuracy_score=confidence_interval('accuracy_score',sample_accuracy_scores)"
   ]
  },
  {
   "cell_type": "code",
   "execution_count": 19,
   "metadata": {},
   "outputs": [
    {
     "data": {
      "image/png": "[encoded data removed]",
      "text/plain": [
       "<Figure size 432x288 with 1 Axes>"
      ]
     },
     "metadata": {
      "needs_background": "light"
     },
     "output_type": "display_data"
    },
    {
     "name": "stdout",
     "output_type": "stream",
     "text": [
      "Range estimate for  roc_auc_score  at 95% confidence level is : 0.8316494989516454  to  0.8323272811606066\n"
     ]
    }
   ],
   "source": [
    "ci_roc_auc_score=confidence_interval('roc_auc_score',sample_roc_auc_scores)"
   ]
  },
  {
   "cell_type": "markdown",
   "metadata": {},
   "source": [
    "# Interprete the Model\n",
    "\n",
    "Machine learning is often [criticized as being a black-box](https://www.technologyreview.com/s/604087/the-dark-secret-at-the-heart-of-ai/): we put data in on one side and it gives us the answers on the other. While these answers are often extremely accurate, the model tells us nothing about how it actually made the predictions. This is true to some extent, but there are ways in which we can try and discover how a model \"thinks\".\n",
    "\n",
    "We will explore several ways to interpret our model:\n",
    "\n",
    "* Feature importances\n",
    "* Examining a single decision tree in the ensemble."
   ]
  },
  {
   "cell_type": "markdown",
   "metadata": {},
   "source": [
    "### Interpreting the results: Odds Ratio, Confidence Intervals and Pvalues"
   ]
  },
  {
   "cell_type": "code",
   "execution_count": 102,
   "metadata": {},
   "outputs": [
    {
     "name": "stdout",
     "output_type": "stream",
     "text": [
      "Warning: Maximum number of iterations has been exceeded.\n",
      "         Current function value: 0.208039\n",
      "         Iterations: 1000\n"
     ]
    }
   ],
   "source": [
    "from statsmodels.tools import add_constant as add_constant\n",
    "import statsmodels.api as sm\n",
    "df_constant = add_constant(full_data)\n",
    "df_constant.head()\n",
    "cols=df_constant.columns[:-1]\n",
    "model=sm.Logit(df_constant['y'],df_constant[cols])\n",
    "result=model.fit(maxiter=1000)\n",
    "#result.summary()"
   ]
  },
  {
   "cell_type": "code",
   "execution_count": 103,
   "metadata": {},
   "outputs": [
    {
     "data": {
      "text/html": [
       "<div>\n",
       "<style scoped>\n",
       "    .dataframe tbody tr th:only-of-type {\n",
       "        vertical-align: middle;\n",
       "    }\n",
       "\n",
       "    .dataframe tbody tr th {\n",
       "        vertical-align: top;\n",
       "    }\n",
       "\n",
       "    .dataframe thead th {\n",
       "        text-align: right;\n",
       "    }\n",
       "</style>\n",
       "<table border=\"1\" class=\"dataframe\">\n",
       "  <thead>\n",
       "    <tr style=\"text-align: right;\">\n",
       "      <th></th>\n",
       "      <th>Odds_Ratio: CI 95%(2.5%)</th>\n",
       "      <th>Odds_Ratio: CI 95%(97.5%)</th>\n",
       "      <th>Odds Ratio</th>\n",
       "      <th>Probability</th>\n",
       "      <th>Coefficient</th>\n",
       "      <th>pvalue</th>\n",
       "    </tr>\n",
       "  </thead>\n",
       "  <tbody>\n",
       "    <tr>\n",
       "      <th>const</th>\n",
       "      <td>0.041621</td>\n",
       "      <td>0.046912</td>\n",
       "      <td>0.044187</td>\n",
       "      <td>0.042317</td>\n",
       "      <td>-3.119322</td>\n",
       "      <td>0.000</td>\n",
       "    </tr>\n",
       "    <tr>\n",
       "      <th>age</th>\n",
       "      <td>0.989893</td>\n",
       "      <td>1.073979</td>\n",
       "      <td>1.031079</td>\n",
       "      <td>0.507651</td>\n",
       "      <td>0.030606</td>\n",
       "      <td>0.141</td>\n",
       "    </tr>\n",
       "    <tr>\n",
       "      <th>duration</th>\n",
       "      <td>3.249947</td>\n",
       "      <td>3.504693</td>\n",
       "      <td>3.374917</td>\n",
       "      <td>0.771424</td>\n",
       "      <td>1.216371</td>\n",
       "      <td>0.000</td>\n",
       "    </tr>\n",
       "    <tr>\n",
       "      <th>campaign</th>\n",
       "      <td>0.843700</td>\n",
       "      <td>0.954177</td>\n",
       "      <td>0.897240</td>\n",
       "      <td>0.472919</td>\n",
       "      <td>-0.108432</td>\n",
       "      <td>0.001</td>\n",
       "    </tr>\n",
       "    <tr>\n",
       "      <th>pdays</th>\n",
       "      <td>1.091757</td>\n",
       "      <td>1.266625</td>\n",
       "      <td>1.175945</td>\n",
       "      <td>0.540430</td>\n",
       "      <td>0.162072</td>\n",
       "      <td>0.000</td>\n",
       "    </tr>\n",
       "    <tr>\n",
       "      <th>emp.var.rate</th>\n",
       "      <td>0.038630</td>\n",
       "      <td>0.092439</td>\n",
       "      <td>0.059757</td>\n",
       "      <td>0.056388</td>\n",
       "      <td>-2.817461</td>\n",
       "      <td>0.000</td>\n",
       "    </tr>\n",
       "    <tr>\n",
       "      <th>cons.price.idx</th>\n",
       "      <td>2.705660</td>\n",
       "      <td>4.792108</td>\n",
       "      <td>3.600808</td>\n",
       "      <td>0.782647</td>\n",
       "      <td>1.281158</td>\n",
       "      <td>0.000</td>\n",
       "    </tr>\n",
       "    <tr>\n",
       "      <th>cons.conf.idx</th>\n",
       "      <td>1.028955</td>\n",
       "      <td>1.184242</td>\n",
       "      <td>1.103871</td>\n",
       "      <td>0.524686</td>\n",
       "      <td>0.098823</td>\n",
       "      <td>0.006</td>\n",
       "    </tr>\n",
       "    <tr>\n",
       "      <th>euribor3m</th>\n",
       "      <td>1.175950</td>\n",
       "      <td>2.834273</td>\n",
       "      <td>1.825641</td>\n",
       "      <td>0.646098</td>\n",
       "      <td>0.601931</td>\n",
       "      <td>0.007</td>\n",
       "    </tr>\n",
       "    <tr>\n",
       "      <th>nr.employed</th>\n",
       "      <td>0.934327</td>\n",
       "      <td>2.246647</td>\n",
       "      <td>1.448828</td>\n",
       "      <td>0.591641</td>\n",
       "      <td>0.370755</td>\n",
       "      <td>0.098</td>\n",
       "    </tr>\n",
       "  </tbody>\n",
       "</table>\n",
       "</div>"
      ],
      "text/plain": [
       "                Odds_Ratio: CI 95%(2.5%)  Odds_Ratio: CI 95%(97.5%)  \\\n",
       "const                           0.041621                   0.046912   \n",
       "age                             0.989893                   1.073979   \n",
       "duration                        3.249947                   3.504693   \n",
       "campaign                        0.843700                   0.954177   \n",
       "pdays                           1.091757                   1.266625   \n",
       "emp.var.rate                    0.038630                   0.092439   \n",
       "cons.price.idx                  2.705660                   4.792108   \n",
       "cons.conf.idx                   1.028955                   1.184242   \n",
       "euribor3m                       1.175950                   2.834273   \n",
       "nr.employed                     0.934327                   2.246647   \n",
       "\n",
       "                Odds Ratio  Probability  Coefficient  pvalue  \n",
       "const             0.044187     0.042317    -3.119322   0.000  \n",
       "age               1.031079     0.507651     0.030606   0.141  \n",
       "duration          3.374917     0.771424     1.216371   0.000  \n",
       "campaign          0.897240     0.472919    -0.108432   0.001  \n",
       "pdays             1.175945     0.540430     0.162072   0.000  \n",
       "emp.var.rate      0.059757     0.056388    -2.817461   0.000  \n",
       "cons.price.idx    3.600808     0.782647     1.281158   0.000  \n",
       "cons.conf.idx     1.103871     0.524686     0.098823   0.006  \n",
       "euribor3m         1.825641     0.646098     0.601931   0.007  \n",
       "nr.employed       1.448828     0.591641     0.370755   0.098  "
      ]
     },
     "execution_count": 103,
     "metadata": {},
     "output_type": "execute_result"
    }
   ],
   "source": [
    "params = np.exp(result.params)\n",
    "conf = np.exp(result.conf_int())\n",
    "\n",
    "conf['OR'] = params\n",
    "conf['Probability']=params/(params+1)\n",
    "conf['coeff']=result.params\n",
    "pvalue=round(result.pvalues,3)\n",
    "conf['pvalue']=pvalue\n",
    "conf.columns = ['Odds_Ratio: CI 95%(2.5%)', 'Odds_Ratio: CI 95%(97.5%)', 'Odds Ratio','Probability','Coefficient','pvalue']\n",
    "conf.head(10)"
   ]
  },
  {
   "cell_type": "markdown",
   "metadata": {},
   "source": [
    " ### Insights :\n",
    "- Duration , cons.price.idx come out as most important features, followed by age, euribor3m and other socio-economic features\n",
    "- probability of customer subscribing to term deposit  given no predictors is 4.2%. In other words, the intercept from the model with no predictor variables is the estimated log odds of subscribing to term deposit for the whole population of interest. \n",
    "- probability of customers subscribing to term deposit with every one unit increase in call duration increases by 77%.\n",
    "- The coefficient for age says that, holding all others constant, we will see 3% increase in the odds of subscring to term deposit for a one year increase in age since.**\n",
    "\n",
    "- Similarly , with every extra cigarette one smokes thers is a 2% increase in the odds of CDH.** \n",
    "- Increase in cons.price.idx by one unit increases the probability of subscribing to term deposit by 78%"
   ]
  },
  {
   "cell_type": "markdown",
   "metadata": {},
   "source": [
    "## Feature Importances\n",
    "\n",
    "One of the basic ways we can interpret an ensemble of decision trees is through what are known as the feature importances. These can be interpreted as the variables which are most predictive of the target. While the actual details of the feature importances are quite complex ([here is a Stack Overflow question on the subject](https://stackoverflow.com/questions/15810339/how-are-feature-importances-in-randomforestclassifier-determined), we can use the relative values to compare the features and determine which are most relevant to our problem. \n",
    "\n",
    "Extracting the feature importances from a trained ensemble of trees is quite easy in scikit-learn. We will store the feature importances in a dataframe to analyze and visualize them."
   ]
  },
  {
   "cell_type": "code",
   "execution_count": 86,
   "metadata": {},
   "outputs": [
    {
     "data": {
      "text/html": [
       "<div>\n",
       "<style scoped>\n",
       "    .dataframe tbody tr th:only-of-type {\n",
       "        vertical-align: middle;\n",
       "    }\n",
       "\n",
       "    .dataframe tbody tr th {\n",
       "        vertical-align: top;\n",
       "    }\n",
       "\n",
       "    .dataframe thead th {\n",
       "        text-align: right;\n",
       "    }\n",
       "</style>\n",
       "<table border=\"1\" class=\"dataframe\">\n",
       "  <thead>\n",
       "    <tr style=\"text-align: right;\">\n",
       "      <th></th>\n",
       "      <th>feature</th>\n",
       "      <th>importance</th>\n",
       "    </tr>\n",
       "  </thead>\n",
       "  <tbody>\n",
       "    <tr>\n",
       "      <th>0</th>\n",
       "      <td>duration</td>\n",
       "      <td>0.374080</td>\n",
       "    </tr>\n",
       "    <tr>\n",
       "      <th>1</th>\n",
       "      <td>nr.employed</td>\n",
       "      <td>0.156744</td>\n",
       "    </tr>\n",
       "    <tr>\n",
       "      <th>2</th>\n",
       "      <td>age</td>\n",
       "      <td>0.117835</td>\n",
       "    </tr>\n",
       "    <tr>\n",
       "      <th>3</th>\n",
       "      <td>euribor3m</td>\n",
       "      <td>0.087371</td>\n",
       "    </tr>\n",
       "    <tr>\n",
       "      <th>4</th>\n",
       "      <td>campaign</td>\n",
       "      <td>0.037950</td>\n",
       "    </tr>\n",
       "  </tbody>\n",
       "</table>\n",
       "</div>"
      ],
      "text/plain": [
       "       feature  importance\n",
       "0     duration    0.374080\n",
       "1  nr.employed    0.156744\n",
       "2          age    0.117835\n",
       "3    euribor3m    0.087371\n",
       "4     campaign    0.037950"
      ]
     },
     "execution_count": 86,
     "metadata": {},
     "output_type": "execute_result"
    }
   ],
   "source": [
    "# Extract the feature importances into a dataframe\n",
    "from sklearn.tree import DecisionTreeClassifier\n",
    "model = DecisionTreeClassifier()\n",
    "model.fit(full_X, full_y)\n",
    "feature_results = pd.DataFrame({'feature': list(full_X.columns), \n",
    "                                'importance': model.feature_importances_})\n",
    "\n",
    "# Show the top 10 most important\n",
    "feature_results = feature_results.sort_values('importance', ascending = False).reset_index(drop=True)\n",
    "\n",
    "feature_results.head()"
   ]
  },
  {
   "cell_type": "code",
   "execution_count": 101,
   "metadata": {},
   "outputs": [
    {
     "data": {
      "image/png": "[encoded data removed]",
      "text/plain": [
       "<Figure size 864x720 with 1 Axes>"
      ]
     },
     "metadata": {},
     "output_type": "display_data"
    }
   ],
   "source": [
    "figsize(12, 10)\n",
    "plt.style.use('fivethirtyeight')\n",
    "\n",
    "# Plot the 10 most important features in a horizontal bar chart\n",
    "feature_results.loc[:5, :].plot(x = 'feature', y = 'importance', \n",
    "                                 edgecolor = 'k',\n",
    "                                 kind='barh', color = 'blue');\n",
    "plt.xlabel('Relative Importance', size = 20); plt.ylabel('')\n",
    "plt.title('Feature Importances', size = 30);"
   ]
  },
  {
   "cell_type": "markdown",
   "metadata": {},
   "source": [
    "### Inferences:\n",
    "- Decision Tree Feature Importances shows similar results as logistic regression coefficeint interpretation:\n",
    "- duration is the most important feature follwed by nr.employed\tand age"
   ]
  },
  {
   "cell_type": "markdown",
   "metadata": {},
   "source": [
    "#  Conclusions and Document Findings\n",
    "\n",
    "\n",
    "1. Using the given Bank Marketing data, our machine learning model has increased the baseline model performance from:<br>\n",
    "F1-score = 0.5263 to f1_score :  0.6147<br>\n",
    "roc_auc_score = 0.7004 to roc_auc_score :  0.8354<br>\n",
    "while consistently maintaing model accuracy. \n",
    "- Thus, our model can predict whteher a customer subscribed to term deposit or not with  89% accuracy.\n",
    "2. The most important variables for determining the term deposit subscription are : Duration, nr.employed  and age.\n",
    "3. From the statistical tests performed on 'job' ,  we can infer that most of the clients who say 'yes' for term subscription they are working as __RETIRED(25%)__ and __STUDENT(31%)__.\n",
    "4. From the statistical tests performed on 'education', we can infer that most of the clients who say 'yes' for term subscription they are having __ILLITERATE(22%)__ and __UNIVERSITY.DEGREE(14%)__.\n",
    "5. From the statistical tests performed on 'marital_status' ,we can infer that most of the clients who say 'yes' for term subscription they are having __SINGLE(14%)__ as marital status.\n",
    "6. From the statistical tests performed on 'contact' type, we can infer that most of the clients who say 'yes' for term subscription their type of contact is __CELLULAR(15%)__.\n",
    "7. From the statistical tests performed on 'month', we can infer that most of the clients who say 'yes' for term subscription they are last contacted in the month of __MARCH(51%)__ and __DECEMBER(49%)__.\n",
    "8. Clients who say 'yes' for term subscription they are contacted in __TUESDAY__ and __THURSDAY__.\n",
    "9. From the statistical tests performed on 'poutcome', we can infer that the clients who say 'yes' for term subscription their last campaign outcome was __SUCCESS(65%)__.\n",
    "10. For Bank to focus on future marketing campaigns , it should target above mentioned class of customers for better success rate"
   ]
  },
  {
   "cell_type": "code",
   "execution_count": null,
   "metadata": {},
   "outputs": [],
   "source": []
  }
 ],
 "metadata": {
  "kernelspec": {
   "display_name": "Python 3",
   "language": "python",
   "name": "python3"
  },
  "language_info": {
   "codemirror_mode": {
    "name": "ipython",
    "version": 3
   },
   "file_extension": ".py",
   "mimetype": "text/x-python",
   "name": "python",
   "nbconvert_exporter": "python",
   "pygments_lexer": "ipython3",
   "version": "3.7.3"
  }
 },
 "nbformat": 4,
 "nbformat_minor": 2
}
